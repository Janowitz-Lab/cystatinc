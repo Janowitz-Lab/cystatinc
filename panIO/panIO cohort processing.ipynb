{
 "cells": [
  {
   "cell_type": "markdown",
   "metadata": {},
   "source": [
    "## Data preparation"
   ]
  },
  {
   "cell_type": "code",
   "execution_count": null,
   "metadata": {},
   "outputs": [],
   "source": [
    "import pandas as pd\n",
    "data = pd.read_excel('COHORT_February2022_latest.xlsx')\n",
    "data"
   ]
  },
  {
   "cell_type": "code",
   "execution_count": null,
   "metadata": {},
   "outputs": [],
   "source": [
    "import os, fnmatch\n",
    "def find(pattern, path):\n",
    "    try:\n",
    "        result = []\n",
    "        for root, dirs, files in os.walk(path):\n",
    "            for name in files:\n",
    "                if fnmatch.fnmatch(name, pattern):\n",
    "                    result.append(os.path.join(root, name))\n",
    "        resultx = result[0]\n",
    "        return resultx\n",
    "    except:\n",
    "        return 'error'"
   ]
  },
  {
   "cell_type": "markdown",
   "metadata": {},
   "source": [
    "## Exome analysis"
   ]
  },
  {
   "cell_type": "code",
   "execution_count": null,
   "metadata": {},
   "outputs": [],
   "source": [
    "import seaborn as sns\n",
    "import hail as hl\n",
    "import os\n",
    "\n",
    "tmp = \"/mnt/grid/janowitz/home/skleeman/tmp2\"\n",
    "os.environ[\"SPARK_LOCAL_DIRS\"]=tmp\n",
    "\n",
    "os.environ[\"PYSPARK_SUBMIT_ARGS\"] =\"--driver-memory 200g --executor-memory 2g pyspark-shell\"\n",
    "\n",
    "hl.init(default_reference='GRCh38', master='local[16]',min_block_size=128, local_tmpdir=tmp, tmp_dir=tmp)\n"
   ]
  },
  {
   "cell_type": "markdown",
   "metadata": {},
   "source": [
    "Cluster config"
   ]
  },
  {
   "cell_type": "code",
   "execution_count": null,
   "metadata": {},
   "outputs": [],
   "source": [
    "import hail as hl\n",
    "import os\n",
    "import pandas as pd\n",
    "import subprocess\n",
    "from gnomad.utils.liftover import *\n",
    "from gnomad.utils.annotations import *\n",
    "from gnomad.sample_qc.pipeline import *\n",
    "from gnomad.sample_qc.ancestry import *\n",
    "import glob\n",
    "\n",
    "\n",
    "#Define memory and CPU availability\n",
    "\n",
    "tmp = \"/mnt/grid/janowitz/rdata_norepl/tmp\"\n",
    "\n",
    "os.environ[\"SPARK_LOCAL_DIRS\"]=tmp\n",
    "os.environ[\"PYSPARK_SUBMIT_ARGS\"] =\"--conf spark.network.timeout=15m --conf spark.executor.heartbeatInterval=10m --conf spark.memory.fraction=1.0 --driver-memory 3000G --executor-memory 10G pyspark-shell\"\n",
    "\n",
    "hl.init(default_reference='GRCh38', master ='local[96]',min_block_size=128, local_tmpdir=tmp, tmp_dir=tmp)"
   ]
  },
  {
   "cell_type": "markdown",
   "metadata": {},
   "source": [
    "## Exome pipeline"
   ]
  },
  {
   "cell_type": "markdown",
   "metadata": {},
   "source": [
    "### Sex QC"
   ]
  },
  {
   "cell_type": "code",
   "execution_count": null,
   "metadata": {},
   "outputs": [],
   "source": [
    "import pandas as pd\n",
    "\n",
    "mt = hl.import_vcf('/mnt/grid/janowitz/rdata_norepl/pan_immuno/pan_immuno_germline_hail.chr[X-Y].vcf.gz', force_bgz=True)\n",
    "mt = hl.split_multi_hts(mt, permit_shuffle=True)\n",
    "mt = mt.filter_rows(mt.locus.in_x_par(), keep=False)\n",
    "\n",
    "#Sample QC\n",
    "mt = hl.sample_qc(mt, name='sample_qc')\n",
    "data = pd.read_excel('~/COHORT_Feb2020_strandupdate_rmdup.xlsx')\n",
    "data['s'] = data.accession + '_' + data.SUBJECT_ID + '_normal'\n",
    "data = data[['s', 'age','sex','dcb','os_days','os_stat','pfs_days','pfs_stat']]\n",
    "data = data.replace({'M': 0, 'F': 1})\n",
    "pheno = hl.Table.from_pandas(data, key=\"s\") \n",
    "\n",
    "mt = mt.filter_cols(hl.is_defined(pheno[mt.s])) #Remove samples not included in updated cohort\n",
    "mt = mt.annotate_cols(age = pheno[mt.s].age, sex = pheno[mt.s].sex, dcb = pheno[mt.s].dcb)\n",
    "mt = mt.annotate_cols(is_female = hl.if_else(mt.sex==1, True, False))\n",
    "\n",
    "hl.export_plink(mt, '/mnt/grid/janowitz/rdata_norepl/pan_immuno/plink_unfilteredXY',\n",
    "                ind_id = mt.s,\n",
    "                is_female = mt.is_female)"
   ]
  },
  {
   "cell_type": "code",
   "execution_count": null,
   "metadata": {},
   "outputs": [],
   "source": [
    "%%bash\n",
    "\n",
    "cd /mnt/grid/janowitz/rdata_norepl/pan_immuno/\n",
    "\n",
    "~/applications/plink1.9/plink --bfile /mnt/grid/janowitz/rdata_norepl/pan_immuno/plink_unfilteredXY --check-sex 0.30 0.60 --out X\n",
    "~/applications/plink1.9/plink --bfile /mnt/grid/janowitz/rdata_norepl/pan_immuno/plink_unfilteredXY --check-sex y-only --out Y"
   ]
  },
  {
   "cell_type": "code",
   "execution_count": null,
   "metadata": {},
   "outputs": [],
   "source": [
    "import seaborn as sns\n",
    "import pandas as pd\n",
    "\n",
    "X = pd.read_csv('/mnt/grid/janowitz/rdata_norepl/pan_immuno/X.sexcheck',sep='\\s+')\n",
    "Y = pd.read_csv('/mnt/grid/janowitz/rdata_norepl/pan_immuno/Y.sexcheck',sep='\\s+')\n",
    "\n",
    "all = X.merge(Y, on=['FID','IID'])\n",
    "\n",
    "def myfunc(F, YCOUNT):\n",
    "    if F<0.5 and YCOUNT<10000:\n",
    "        myvalue=\"female\"\n",
    "    elif F>=0.5 and YCOUNT>=10000:\n",
    "        myvalue=\"male\"\n",
    "    elif F>=0 and YCOUNT>20000:\n",
    "        myvalue=\"male\"\n",
    "    else:\n",
    "        myvalue=\"undetermined\"\n",
    "    return myvalue\n",
    "        \n",
    "all['status'] = all.apply(lambda x: myfunc(x['F'], x['YCOUNT']), axis=1)\n",
    "\n",
    "def discordant(PEDSEX, status):\n",
    "    if PEDSEX==1 and status==\"male\":\n",
    "        myvalue=\"correct\"\n",
    "    elif PEDSEX==2 and status==\"female\":\n",
    "        myvalue=\"correct\"\n",
    "    else:\n",
    "        myvalue=\"incorrect\"\n",
    "    return myvalue\n",
    "        \n",
    "all['outcome'] = all.apply(lambda x: discordant(x['PEDSEX_x'], x['status']), axis=1)\n",
    "\n",
    "\n",
    "sns.scatterplot(data=all, x=\"F\", y=\"YCOUNT\", hue=\"status\")"
   ]
  },
  {
   "cell_type": "code",
   "execution_count": null,
   "metadata": {},
   "outputs": [],
   "source": [
    "all[all.outcome == \"incorrect\"]"
   ]
  },
  {
   "cell_type": "markdown",
   "metadata": {},
   "source": [
    "### Variant QC"
   ]
  },
  {
   "cell_type": "code",
   "execution_count": null,
   "metadata": {},
   "outputs": [],
   "source": [
    "mt = hl.import_vcf('/mnt/grid/janowitz/rdata_norepl/pan_immuno/pan_immuno_germline_hail.chr*.vcf.gz', force_bgz=True)\n",
    "mt = hl.split_multi_hts(mt, permit_shuffle=True)\n",
    "\n",
    "#Remove entries with depth <7/10\n",
    "mt = mt.filter_entries((mt.FT == \"PASS\") | (hl.is_missing(mt.FT))) #Remove filtered calls (Strelka)\n",
    "mt = mt.filter_entries(((mt.DP >= 7) & hl.is_snp(mt.alleles[0], mt.alleles[1])) | ((mt.DP >= 10) & hl.is_indel(mt.alleles[0], mt.alleles[1])))\n",
    "mt = mt.annotate_entries(AB = mt.AD[1] / hl.sum(mt.AD))\n",
    "mt = mt.annotate_rows(adj_count=hl.agg.count_where(((hl.is_snp(mt.alleles[0], mt.alleles[1])) & (mt.AB >= 0.15) & (mt.GT.is_het_ref())) |\n",
    "                                                   ((hl.is_indel(mt.alleles[0], mt.alleles[1])) & (mt.AB >= 0.20) & (mt.GT.is_het_ref())) | \n",
    "                                                   mt.GT.is_hom_var()))\n",
    "\n",
    "#Remove variants with call rate <90%\n",
    "mt = hl.variant_qc(mt)\n",
    "mt = mt.filter_rows(mt.variant_qc.call_rate > 0.80)\n",
    "mt = mt.filter_rows(mt.variant_qc.p_value_hwe > 1e-15)\n",
    "mt = mt.filter_rows(mt.adj_count >= 1) #One high-quality het entry per SNP\n",
    "print(mt.count(), flush=True)\n",
    "\n",
    "#Remove samples with call rate <90%\n",
    "mt = hl.sample_qc(mt, name='sample_qc')\n",
    "mt = mt.filter_cols(mt.sample_qc.call_rate > 0.80)\n",
    "print(mt.count(), flush=True)\n",
    "\n",
    "#Filter excess heterozygosity\n",
    "mt = mt.annotate_cols(IB = hl.agg.inbreeding(mt.GT, mt.variant_qc.AF[1]))\n",
    "summ_stats = mt.aggregate_cols(hl.agg.stats(mt.IB.f_stat))\n",
    "threshold_low = summ_stats['mean'] - (3* summ_stats['stdev'])\n",
    "threshold_high = summ_stats['mean'] + (3* summ_stats['stdev'])\n",
    "mt = mt.filter_cols(mt.IB.f_stat > threshold_low)\n",
    "mt = mt.filter_cols(mt.IB.f_stat < threshold_high)\n",
    "\n",
    "mt.write('/mnt/grid/janowitz/rdata_norepl/pan_immuno/hail/IO_filtered.mt', overwrite=True) #Hard filters"
   ]
  },
  {
   "cell_type": "markdown",
   "metadata": {},
   "source": [
    "### Sample QC"
   ]
  },
  {
   "cell_type": "code",
   "execution_count": null,
   "metadata": {},
   "outputs": [],
   "source": [
    "mt = hl.read_matrix_table('/mnt/grid/janowitz/rdata_norepl/pan_immuno/hail/IO_filtered.mt')\n",
    "\n",
    "#Remove samples with sex mismatch\n",
    "df = all[all.outcome == \"correct\"]\n",
    "sex = hl.Table.from_pandas(df, key=\"IID\") \n",
    "mt = mt.filter_cols(hl.is_defined(sex[mt.s]))\n",
    "\n",
    "#Exclude LD intervals from plinkQC package, LD pruning in PLINK (not working in Hail due to bug)\n",
    "intervals = hl.import_bed('/mnt/grid/janowitz/home/skleeman/ukbiobank/cancergwas/remove_ld_grch38.bed',\n",
    "                         reference_genome='GRCh38')\n",
    "\n",
    "qc_mt = mt.filter_rows(hl.is_defined(intervals[mt.locus]),keep=False)\n",
    "\n",
    "#gnomad default filtering, including LD pruning\n",
    "qc_mt = get_qc_mt(\n",
    "    qc_mt,\n",
    "    min_af=0.001,\n",
    "    min_inbreeding_coeff_threshold=-0.025,\n",
    "    ld_r2=0.1,\n",
    "    apply_hard_filters = False,\n",
    "    min_callrate=0.99,\n",
    "    filter_lcr=False,\n",
    "    filter_decoy=False,\n",
    "    filter_segdup=False\n",
    ")\n",
    "\n",
    "print(qc_mt.count(), flush=True)\n",
    "qc_mt = qc_mt.checkpoint('/mnt/grid/janowitz/rdata_norepl/pan_immuno/hail/IO_filtered_qc.mt', overwrite=True)"
   ]
  },
  {
   "cell_type": "code",
   "execution_count": null,
   "metadata": {},
   "outputs": [],
   "source": [
    "qc_mt.count()"
   ]
  },
  {
   "cell_type": "code",
   "execution_count": null,
   "metadata": {},
   "outputs": [],
   "source": [
    "from gnomad.utils.liftover import *\n",
    "from gnomad.utils.annotations import *\n",
    "from gnomad.sample_qc.pipeline import *\n",
    "from gnomad.sample_qc.ancestry import *\n",
    "\n",
    "qc_mt = hl.read_matrix_table('/mnt/grid/janowitz/rdata_norepl/pan_immuno/hail/IO_filtered_qc.mt')\n",
    "\n",
    "#Import 1000G/HGDP reference\n",
    "this_ref = hl.read_matrix_table('/mnt/grid/janowitz/home/references/1k_hgdp/ref_gnomadfilters.mt')\n",
    "related_samples_to_remove_ref = hl.read_table(\"/mnt/grid/janowitz/home/references/1k_hgdp/related_remove_ref.ht\")\n",
    "\n",
    "\n",
    "\n",
    "#Merge cohorts\n",
    "#panIO_in_ref = qc_mt.filter_rows(hl.is_defined(this_ref.rows()[qc_mt.row_key]))\n",
    "#print('sites in ref and PanIO data, inds in PanIO: ' + str(panIO_in_ref.count()))\n",
    "\n",
    "#ref_in_panIO = this_ref.filter_rows(hl.is_defined(qc_mt.rows()[this_ref.row_key]))\n",
    "#print('sites in ref and PanIO data, inds in ref: ' + str(ref_in_panIO.count()))\n",
    "\n",
    "#panIO_in_ref = panIO_in_ref.checkpoint('/mnt/grid/janowitz/rdata_norepl/pan_immuno/hail/panIO_in_ref.mt', overwrite=True)\n",
    "#ref_in_panIO = ref_in_panIO.checkpoint('/mnt/grid/janowitz/rdata_norepl/pan_immuno/hail/ref_in_panIO.mt', overwrite=True)\n",
    "\n",
    "panIO_in_ref = hl.read_matrix_table('/mnt/grid/janowitz/rdata_norepl/pan_immuno/hail/panIO_in_ref.mt')\n",
    "ref_in_panIO = hl.read_matrix_table('/mnt/grid/janowitz/rdata_norepl/pan_immuno/hail/ref_in_panIO.mt')\n",
    "\n",
    "\n",
    "#Ancestry PCA\n",
    "#--> Reference, label with inferred populations, exclude relateds\n",
    "_, scores_pca_ref, loadings_pca_ref = run_pca_with_relateds(ref_in_panIO, related_samples_to_remove_ref, \n",
    "                                                               n_pcs=10, autosomes_only=True)\n",
    "\n",
    "#--> Project to PanIO\n",
    "\n",
    "scores_pca_panIO = pc_project(mt = panIO_in_ref, loadings_ht = loadings_pca_ref)\n",
    "\n",
    "#Train RF classifier\n",
    "merge = scores_pca_ref.union(scores_pca_panIO)\n",
    "\n",
    "merge = merge.annotate(\n",
    "    training_pop=this_ref.cols()[merge.key].labeled_subpop)\n",
    "\n",
    "recode = pd.read_excel('/mnt/grid/janowitz/home/references/1k_hgdp/recode.xlsx')\n",
    "recode_ht = hl.Table.from_pandas(recode, key='labeled_subpop')\n",
    "\n",
    "merge = merge.annotate(\n",
    "    training_pop=recode_ht[merge.training_pop].superpop)\n",
    "\n",
    "predictions_ref, classifer_rf_ref = assign_population_pcs(merge, pc_cols = merge.scores, known_col = 'training_pop', seed=501, min_prob = 0.50, missing_label='Other')\n",
    "\n",
    "panIO_predictions = predictions_ref.semi_join(scores_pca_panIO) #Subset PanIO samples\n",
    "\n",
    "panIO_predictions.write(\"/mnt/grid/janowitz/rdata_norepl/pan_immuno/hail/panIO_ancestry_calls.ht\", overwrite=True)\n",
    "\n",
    "relatedness_ht = hl.pc_relate(qc_mt.GT, 0.01, k=10, min_kinship=0.05, block_size=512)\n",
    "\n",
    "related_samples_to_remove = hl.maximal_independent_set(relatedness_ht.i, relatedness_ht.j, False)\n",
    "print(related_samples_to_remove.count())\n",
    "\n",
    "related_samples_to_remove.write(\"/mnt/grid/janowitz/rdata_norepl/pan_immuno/hail/related_remove_panIO.ht\",overwrite=True)"
   ]
  },
  {
   "cell_type": "markdown",
   "metadata": {},
   "source": [
    "### Refine ancestry (EUR)\n",
    "\n",
    "There is evidence of outliers (about 4) in the EUR subset, these can be removed by Z-score > 5 in each of PC1 and PC2."
   ]
  },
  {
   "cell_type": "code",
   "execution_count": null,
   "metadata": {},
   "outputs": [],
   "source": [
    "import pandas as pd\n",
    "import pandas as pd\n",
    "from gnomad.sample_qc.pipeline import *\n",
    "from gnomad.sample_qc.ancestry import *\n",
    "\n",
    "\n",
    "mt = hl.read_matrix_table('/mnt/grid/janowitz/rdata_norepl/pan_immuno/hail/IO_filtered_qc.mt')\n",
    "\n",
    "#Remove related samples\n",
    "related_samples_to_remove = hl.read_table(\"/mnt/grid/janowitz/rdata_norepl/pan_immuno/hail/related_remove_panIO.ht\")\n",
    "\n",
    "#Add ancestry data\n",
    "panIO_predictions = hl.read_table(\"/mnt/grid/janowitz/rdata_norepl/pan_immuno/hail/panIO_ancestry_calls.ht\")\n",
    "mt = mt.annotate_cols(pop = panIO_predictions[mt.s].pop)\n",
    "\n",
    "\n",
    "mt_filter = mt.filter_cols(mt.pop=='EUR')\n",
    "print(mt_filter.count(), flush=True)\n",
    "\n",
    "#Run PCA excluding relateds then project onto everyone\n",
    "_, pcs, _ = hl.hwe_normalized_pca(mt_filter.GT, k=2)\n",
    "    \n",
    "scores_pca_ref = pcs\n",
    "scores_pca_ref = scores_pca_ref.transmute(**{f'PC{i}': scores_pca_ref.scores[i - 1] for i in range(1, 3)})\n",
    "\n",
    "\n",
    "scores_pca_ref = scores_pca_ref.annotate(PC1_Z = ((scores_pca_ref.PC1 - scores_pca_ref.aggregate(hl.agg.mean(scores_pca_ref.PC1))) / (scores_pca_ref.aggregate(hl.agg.stats(scores_pca_ref.PC1).stdev))),\n",
    "                        PC2_Z = ((scores_pca_ref.PC2 - scores_pca_ref.aggregate(hl.agg.mean(scores_pca_ref.PC2))) / (scores_pca_ref.aggregate(hl.agg.stats(scores_pca_ref.PC2).stdev))))\n",
    "\n",
    "scores_pca_ref = scores_pca_ref.filter((hl.abs(scores_pca_ref.PC1_Z) <5) & (hl.abs(scores_pca_ref.PC2_Z) <5), keep=False)\n",
    "\n",
    "panIO_predictions = panIO_predictions.annotate(pop = hl.case()\n",
    "                                              .when(hl.is_defined(scores_pca_ref[panIO_predictions.s]), \"Other\")\n",
    "                                              .default(panIO_predictions.pop))\n",
    "\n",
    "panIO_predictions_pd = panIO_predictions.to_pandas()\n",
    "panIO_predictions_pd = panIO_predictions_pd[[\"s\", \"pop\"]]\n",
    "panIO_predictions_pd['pop'].value_counts()\n",
    "\n",
    "panIO_predictions.write(\"/mnt/grid/janowitz/rdata_norepl/pan_immuno/hail/panIO_ancestry_calls_update.ht\", overwrite=True)\n"
   ]
  },
  {
   "cell_type": "markdown",
   "metadata": {},
   "source": [
    "### Prepare for imputation"
   ]
  },
  {
   "cell_type": "code",
   "execution_count": null,
   "metadata": {},
   "outputs": [],
   "source": [
    "mt = hl.read_matrix_table('/mnt/grid/janowitz/rdata_norepl/pan_immuno/hail/IO_filtered.mt')\n",
    "mt = mt.filter_rows(mt.locus.in_autosome())\n",
    "\n",
    "panIO_predictions = hl.read_table(\"/mnt/grid/janowitz/rdata_norepl/pan_immuno/hail/panIO_ancestry_calls_update.ht\")\n",
    "related_samples_to_remove = hl.read_table(\"/mnt/grid/janowitz/rdata_norepl/pan_immuno/hail/related_remove_panIO.ht\")\n",
    "\n",
    "#panIO_predictions = panIO_predictions.filter((panIO_predictions.pop==\"EUR\"))\n",
    "\n",
    "mt = mt.filter_cols(hl.is_defined(panIO_predictions[mt.s]))\n",
    "mt = mt.filter_cols(~hl.is_defined(related_samples_to_remove[mt.col_key]))\n",
    "\n",
    "mt.count()"
   ]
  },
  {
   "cell_type": "code",
   "execution_count": null,
   "metadata": {},
   "outputs": [],
   "source": [
    "hl.export_vcf(mt, '/mnt/grid/janowitz/rdata_norepl/pan_immuno/new_impute/exome_variants_forimputation_allancestry.vcf')"
   ]
  },
  {
   "cell_type": "markdown",
   "metadata": {},
   "source": [
    "### Imputed cohort\n",
    "\n",
    "Imputation using TOPMED server then filtered by RSQ>0.6"
   ]
  },
  {
   "cell_type": "code",
   "execution_count": null,
   "metadata": {},
   "outputs": [],
   "source": [
    "mt = hl.import_vcf('/mnt/grid/janowitz/rdata_norepl/pan_immuno/imputed/chr*.dose.vcf.gz', force_bgz=True)\n",
    "mt = mt.filter_rows(mt.info.R2 >= 0.6)\n",
    "\n",
    "mt.write('/mnt/grid/janowitz/rdata_norepl/pan_immuno/panIO_dna_imputed_info0.6.mt', overwrite=True)"
   ]
  },
  {
   "cell_type": "markdown",
   "metadata": {},
   "source": [
    "### Export cleaned GRCh37 data\n",
    "\n",
    "Filter to only SNPs in PGS"
   ]
  },
  {
   "cell_type": "code",
   "execution_count": null,
   "metadata": {},
   "outputs": [],
   "source": [
    "#Filter summary stats\n",
    "\n",
    "from gnomad.utils.liftover import *\n",
    "from gnomad.utils.annotations import *\n",
    "\n",
    "import pandas as pd\n",
    "\n",
    "mt = hl.read_matrix_table('/mnt/grid/janowitz/rdata_norepl/pan_immuno/panIO_dna_imputed_info0.6.mt')\n",
    "\n",
    "panIO_predictions = hl.read_table(\"/mnt/grid/janowitz/rdata_norepl/pan_immuno/hail/panIO_ancestry_calls_update.ht\")\n",
    "panIO_predictions = panIO_predictions.filter(panIO_predictions.pop==\"EUR\")\n",
    "related_samples_to_remove = hl.read_table(\"/mnt/grid/janowitz/rdata_norepl/pan_immuno/hail/related_remove_panIO.ht\")\n",
    "\n",
    "mt = mt.filter_cols(hl.is_defined(panIO_predictions[mt.s])) #Only EUR\n",
    "mt = mt.filter_cols(~hl.is_defined(related_samples_to_remove[mt.col_key])) #Remove related\n",
    "\n",
    "#Add phenotype data\n",
    "data = pd.read_excel('~/COHORT_Feb2020_strandupdate_rmdup.xlsx')\n",
    "data['s'] = data.accession + '_' + data.SUBJECT_ID + '_normal'\n",
    "data = data[['s', 'age','sex','dcb','os_days','os_stat','pfs_days','pfs_stat']]\n",
    "data = data.replace({'M': 0, 'F': 1})\n",
    "pheno = hl.Table.from_pandas(data, key=\"s\") \n",
    "\n",
    "mt = mt.annotate_cols(age = pheno[mt.s].age, sex = pheno[mt.s].sex, dcb = pheno[mt.s].dcb,\n",
    "                     os_days = pheno[mt.s].os_days, os_stat = pheno[mt.s].os_stat)\n",
    "mt = mt.annotate_cols(is_female = hl.if_else(mt.sex==1, True, False))\n",
    "\n",
    "stats = hl.import_table('/mnt/grid/ukbiobank/data/Application58510/skleeman/gwas_cystatinc/PRS/EUR/summ_SEM_cystatin_vaf_effectflip.tsv', impute=True)\n",
    "stats = stats.annotate(locus=hl.locus(hl.str(stats.CHR), hl.int32(stats.BP),reference_genome='GRCh37'))\n",
    "stats = stats.annotate(alleles=[stats.A2, stats.A1])\n",
    "\n",
    "mt = default_lift_data(mt)\n",
    "\n",
    "stats = stats.filter(hl.is_defined(mt.rows()[stats.locus, stats.alleles]))\n",
    "print(stats.count())\n",
    "stats = stats.drop('locus', 'alleles')\n",
    "\n",
    "stats.export('/mnt/grid/ukbiobank/data/Application58510/skleeman/gwas_cystatinc/PRS/EUR/summ_SEM_cystatin_vaf_effectflip_exome.tsv')\n",
    "\n",
    "\n",
    "hl.export_plink(mt, '/mnt/grid/janowitz/rdata_norepl/pan_immuno/hail/imputed_exome_gwas_panIO_grch37',\n",
    "                ind_id = mt.s,\n",
    "                is_female = mt.is_female,\n",
    "                varid = hl.delimit([mt.locus.contig, hl.str(mt.locus.position)], ':'))"
   ]
  }
 ],
 "metadata": {
  "kernelspec": {
   "display_name": "Python/3.7.4 (src)",
   "language": "python",
   "name": "python_3.7.4-gcccore-8.3.0"
  },
  "language_info": {
   "codemirror_mode": {
    "name": "ipython",
    "version": 3
   },
   "file_extension": ".py",
   "mimetype": "text/x-python",
   "name": "python",
   "nbconvert_exporter": "python",
   "pygments_lexer": "ipython3",
   "version": "3.7.4"
  }
 },
 "nbformat": 4,
 "nbformat_minor": 4
}
