{
 "cells": [
  {
   "cell_type": "markdown",
   "metadata": {},
   "source": [
    "## UK Biobank Genomic QC\n",
    "\n",
    "This notebook summarizes the processing steps we performed for variant and sample QC in the UK biobank datasets, as well as the steps needed to prepare the data for association testing implemented in BOLT-LMM."
   ]
  },
  {
   "cell_type": "markdown",
   "metadata": {},
   "source": [
    "### Load Hail"
   ]
  },
  {
   "cell_type": "code",
   "execution_count": null,
   "metadata": {},
   "outputs": [],
   "source": [
    "import seaborn as sns\n",
    "import hail as hl\n",
    "import os\n",
    "from gnomad.utils.liftover import *\n",
    "from gnomad.utils.annotations import *\n",
    "from gnomad.sample_qc.pipeline import *\n",
    "from gnomad.sample_qc.ancestry import *\n",
    "\n",
    "tmp = \"/mnt/grid/janowitz/home/skleeman/tmp2\"\n",
    "os.environ[\"SPARK_LOCAL_DIRS\"]=tmp\n",
    "\n",
    "os.environ[\"PYSPARK_SUBMIT_ARGS\"] =\"--driver-memory 200g --executor-memory 2g pyspark-shell\"\n",
    "\n",
    "hl.init(default_reference='GRCh38', master='local[16]',min_block_size=128, local_tmpdir=tmp, tmp_dir=tmp)"
   ]
  },
  {
   "cell_type": "markdown",
   "metadata": {},
   "source": [
    "### Merge PLINK genotype data"
   ]
  },
  {
   "cell_type": "code",
   "execution_count": null,
   "metadata": {},
   "outputs": [],
   "source": [
    "%%bash\n",
    "\n",
    "plink \\\n",
    "  --bed /mnt/grid/ukbiobank/data/genotypes/plink/ukb_cal_chr1_v2.bed \\\n",
    "  --bim /mnt/grid/janowitz/home/skleeman/ukbiobank/rawdata/ukb_snp_chr1_v2.bim \\\n",
    "  --fam /mnt/grid/ukbiobank/data/Application58510/rawdata/ukb58510_cal_chr1_v2_s488250.fam \\\n",
    "  --merge-list ~/list_beds.txt \\\n",
    "  --make-bed --out ukb_merged \\"
   ]
  },
  {
   "cell_type": "markdown",
   "metadata": {},
   "source": [
    "### Import PLINK data into Hail"
   ]
  },
  {
   "cell_type": "code",
   "execution_count": null,
   "metadata": {},
   "outputs": [],
   "source": [
    "bed = '/mnt/grid/ukbiobank/data/Application58510/skleeman/merged_plink/ukb_merged.bed'\n",
    "bim = '/mnt/grid/ukbiobank/data/Application58510/skleeman/merged_plink/ukb_merged.bim'\n",
    "fam = '/mnt/grid/ukbiobank/data/Application58510/skleeman/merged_plink/ukb_merged.fam'\n",
    "\n",
    "ukb = hl.import_plink(bed = bed, bim = bim, fam = fam, reference_genome='GRCh37',\n",
    "                     min_partitions = 150)\n",
    "\n",
    "ukb.write('/mnt/grid/ukbiobank/data/Application58510/skleeman/ukb_merged_raw.mt', overwrite=True) #Save raw data"
   ]
  },
  {
   "cell_type": "markdown",
   "metadata": {},
   "source": [
    "### Dataset quality control\n",
    "\n",
    "We filter to high-quality SNP, LD prune across genotyped data in UKB then merge with a reference dataset (1000 Genomes / Human Diversity Genome Project) using the callset provided by gnomad."
   ]
  },
  {
   "cell_type": "code",
   "execution_count": null,
   "metadata": {},
   "outputs": [],
   "source": [
    "#Import UKB raw data\n",
    "ukb = hl.read_matrix_table('/mnt/grid/ukbiobank/data/Application58510/skleeman/ukb_merged_raw.mt')\n",
    "print(ukb.count()) #How many variants to start with?\n",
    "ukb = default_lift_data(ukb) #GNOMAD pipeline for liftover, including reverse complement on negative strand\n",
    "\n",
    "#Filtering\n",
    "\n",
    "ukb = hl.variant_qc(ukb) #Default Hail variant QC pipeline\n",
    "ukb = ukb.filter_rows(hl.len(ukb.alleles) == 2) #Biallelic SNPs only\n",
    "ukb = ukb.filter_rows(ukb.ref_allele_mismatch == False) #Remove alleles with reference mismatch ('allele flips')\n",
    "ukb = ukb.filter_rows(ukb.variant_qc.AF[1] > 0.001) #MAF > 0.1%\n",
    "ukb = ukb.filter_rows(ukb.variant_qc.call_rate > 0.99) #Filter by call rate > 99%\n",
    "ukb = ukb.checkpoint('/mnt/grid/ukbiobank/data/Application58510/skleeman/ukb_grch38_filtered.mt', overwrite=True) #Save filtered MT\n",
    "\n",
    "#Exclude LD intervals from plinkQC package\n",
    "intervals = hl.import_bed('/mnt/grid/janowitz/home/skleeman/ukbiobank/cancergwas/remove_ld_grch38.bed',\n",
    "                         reference_genome='GRCh38')\n",
    "ukb = ukb.filter_rows(hl.is_defined(intervals[ukb.locus]),keep=False)\n",
    "\n",
    "#LD pruning in PLINK (not working in Hail due to bug)\n",
    "hl.export_plink(ukb, '/mnt/grid/ukbiobank/data/Application58510/skleeman/pre_ld_plink',\n",
    "                fam_id = ukb.fam_id, ind_id = ukb.s, pat_id = ukb.pat_id, mat_id = ukb.mat_id,\n",
    "                is_female = ukb.is_female)\n",
    "\n",
    "commands = '''\n",
    "plink --bfile /mnt/grid/ukbiobank/data/Application58510/skleeman/pre_ld_plink \\\n",
    "--indep-pairwise 50 5 0.2 --out /mnt/grid/ukbiobank/data/Application58510/skleeman/prune --threads 96 --memory 50000 \\\n",
    "--allow-extra-chr\n",
    "\n",
    "plink --bfile /mnt/grid/ukbiobank/data/Application58510/skleeman/pre_ld_plink \\\n",
    "--extract /mnt/grid/ukbiobank/data/Application58510/skleeman/prune.prune.in \\\n",
    "--make-bed --out /mnt/grid/ukbiobank/data/Application58510/skleeman/post_ld_plink --threads 96 --memory 50000 \\\n",
    "--allow-extra-chr\n",
    "'''\n",
    "\n",
    "output = subprocess.check_output(commands, shell=True)\n",
    "print(output)\n",
    "\n",
    "#Import output of LD pruning back into Hail\n",
    "bed = '/mnt/grid/ukbiobank/data/Application58510/skleeman/post_ld_plink.bed'\n",
    "bim = '/mnt/grid/ukbiobank/data/Application58510/skleeman/post_ld_plink.bim'\n",
    "fam = '/mnt/grid/ukbiobank/data/Application58510/skleeman/post_ld_plink.fam'\n",
    "\n",
    "ukb = hl.import_plink(bed = bed, bim = bim, fam = fam, reference_genome='GRCh38',\n",
    "                     min_partitions = 150)\n",
    "print(ukb.count())\n",
    "ukb = ukb.checkpoint('/mnt/grid/ukbiobank/data/Application58510/skleeman/ukb_grch38_pruned.mt', overwrite=True) #Save filtered MT\n",
    "\n",
    "#Import reference data (1000G/HDGP)\n",
    "this_ref = hl.read_matrix_table('/mnt/grid/janowitz/rdata_norepl/ref.mt') #Dense form (!!!)\n",
    "\n",
    "this_ref = hl.variant_qc(this_ref) #Default Hail variant QC pipeline\n",
    "this_ref = this_ref.filter_rows((hl.len(this_ref.alleles) == 2) & hl.is_snp(this_ref.alleles[0], this_ref.alleles[1]))\n",
    "this_ref = this_ref.filter_rows(this_ref.variant_qc.call_rate > 0.95) #Filter by call rate > 95%\n",
    "this_ref = this_ref.naive_coalesce(250)\n",
    "\n",
    "this_ref = this_ref.checkpoint('/mnt/grid/janowitz/home/references/1k_hgdp/ref_gnomadfilters.mt', overwrite=True) #Save filtered MT\n",
    "\n",
    "#Intersect to variants present in both datasets\n",
    "ukbb_in_ref = ukb.filter_rows(hl.is_defined(this_ref.rows()[ukb.row_key]))\n",
    "print('sites in ref and UKBB data, inds in UKBB: ' + str(ukbb_in_ref.count()))\n",
    "\n",
    "ref_in_ukbb = this_ref.filter_rows(hl.is_defined(ukb.rows()[this_ref.row_key]))\n",
    "print('sites in ref and UKBB data, inds in ref: ' + str(ref_in_ukbb.count()))\n",
    "\n",
    "#Save intersected data\n",
    "ref_in_ukbb.write('/mnt/grid/janowitz/home/references/1k_hgdp/ref_intersect.mt', overwrite=True)\n",
    "ukbb_in_ref.write('/mnt/grid/ukbiobank/data/Application58510/skleeman/ukb_grch38_intersect.mt',overwrite=True)"
   ]
  },
  {
   "cell_type": "markdown",
   "metadata": {},
   "source": [
    "#### Ancestry analysis\n",
    "\n",
    "Implementation based on gnomad QC methododogy in their github repo.\n",
    "\n",
    "##### Step 1"
   ]
  },
  {
   "cell_type": "code",
   "execution_count": null,
   "metadata": {},
   "outputs": [],
   "source": [
    "this_ref = hl.read_matrix_table('/mnt/grid/janowitz/home/references/1k_hgdp/ref_intersect.mt')\n",
    "ukb = hl.read_matrix_table('/mnt/grid/ukbiobank/data/Application58510/skleeman/ukb_grch38_intersect.mt')\n",
    "\n",
    "\n",
    "#Find related individuals in 1000K/HGDP set\n",
    "\n",
    "relatedness_ht = hl.pc_relate(this_ref.GT, 0.01, k=10, min_kinship=0.05, block_size=512)\n",
    "\n",
    "related_samples_to_remove_ref = hl.maximal_independent_set(relatedness_ht.i, relatedness_ht.j, False)\n",
    "\n",
    "\n",
    "#Run PCA\n",
    "\n",
    "#--> Reference, label with inferred populations, exclude relateds\n",
    "_, scores_pca_ref, loadings_pca_ref = run_pca_with_relateds(this_ref, related_samples_to_remove_ref, \n",
    "                                                               n_pcs=10, autosomes_only=True)\n",
    "\n",
    "#--> UKB\n",
    "\n",
    "scores_pca_ukb = pc_project(mt = ukb, loadings_ht = loadings_pca_ref)\n",
    "\n",
    "scores_pca_ref.write(\"/mnt/grid/janowitz/home/references/1k_hgdp/scores_pca_ref.ht\", overwrite=True)\n",
    "scores_pca_ukb.write(\"/mnt/grid/ukbiobank/data/Application58510/skleeman/scores_pca_ukb.ht\", overwrite=True)\n",
    "related_samples_to_remove_ref.write(\"/mnt/grid/janowitz/home/references/1k_hgdp/related_remove_ref.ht\",overwrite=True)"
   ]
  },
  {
   "cell_type": "markdown",
   "metadata": {},
   "source": [
    "##### Step 2"
   ]
  },
  {
   "cell_type": "code",
   "execution_count": null,
   "metadata": {},
   "outputs": [],
   "source": [
    "scores_pca_ref = hl.read_table(\"/mnt/grid/janowitz/home/references/1k_hgdp/scores_pca_ref.ht\")\n",
    "scores_pca_ukb = hl.read_table(\"/mnt/grid/ukbiobank/data/Application58510/skleeman/scores_pca_ukb.ht\")\n",
    "this_ref = hl.read_matrix_table('/mnt/grid/janowitz/home/references/1k_hgdp/ref_intersect.mt')\n",
    "\n",
    "merge = scores_pca_ref.union(scores_pca_ukb)\n",
    "\n",
    "merge = merge.annotate(\n",
    "    training_pop=this_ref.cols()[merge.key].labeled_subpop)\n",
    "\n",
    "recode = pd.read_excel('/mnt/grid/janowitz/home/references/1k_hgdp/recode.xlsx')\n",
    "recode_ht = hl.Table.from_pandas(recode, key='labeled_subpop')\n",
    "\n",
    "merge = merge.annotate(\n",
    "    training_pop=recode_ht[merge.training_pop].superpop)\n",
    "\n",
    "predictions_ref, classifer_rf_ref = assign_population_pcs(merge, pc_cols = merge.scores, known_col = 'training_pop', seed=501, min_prob = 0.70, missing_label='Other')\n",
    "\n",
    "ukb_predictions = predictions_ref.semi_join(scores_pca_ukb) #Subset UKB samples\n",
    "\n",
    "ukb_predictions.write(\"/mnt/grid/ukbiobank/data/Application58510/skleeman/ukb_predictions.ht\", overwrite=True)"
   ]
  },
  {
   "cell_type": "markdown",
   "metadata": {},
   "source": [
    "##### Analyze results (table)"
   ]
  },
  {
   "cell_type": "code",
   "execution_count": null,
   "metadata": {},
   "outputs": [],
   "source": [
    "ukb_predictions_pd = ukb_predictions.to_pandas()\n",
    "ukb_predictions_pd = ukb_predictions_pd[[\"s\", \"pop\"]]\n",
    "ukb_predictions_pd = ukb_predictions_pd[ukb_predictions_pd['pop'] != \"Other\"]\n",
    "ukb_predictions_pd['pop'].value_counts()"
   ]
  },
  {
   "cell_type": "markdown",
   "metadata": {},
   "source": [
    "##### Analyze results (UMAP projection)"
   ]
  },
  {
   "cell_type": "code",
   "execution_count": null,
   "metadata": {},
   "outputs": [],
   "source": [
    "import umap\n",
    "import pandas as pd\n",
    "import seaborn as sns\n",
    "import matplotlib.pyplot as plt\n",
    "\n",
    "ukb_predictions = hl.read_table(\"/mnt/grid/ukbiobank/data/Application58510/skleeman/ukb_predictions.ht\")\n",
    "\n",
    "ukb_predictions_pd = ukb_predictions.to_pandas()\n",
    "\n",
    "data = pd.DataFrame(ukb_predictions_pd['pca_scores'].to_list())\n",
    "\n",
    "proj_umap_pca = umap.UMAP(n_components=2, n_neighbors=15, min_dist=0.5, random_state=42).fit_transform(data)\n",
    "\n",
    "umap = pd.DataFrame(proj_umap_pca)\n",
    "umap['pop'] = ukb_predictions_pd['pop']\n",
    "\n",
    "plt.figure(figsize=(10,10))\n",
    "sns.color_palette(\"bright\")\n",
    "sns.scatterplot(data=umap, x=0, y=1, hue=\"pop\", s=1, alpha = 0.7, marker ='o')\n",
    "plt.show()"
   ]
  },
  {
   "cell_type": "markdown",
   "metadata": {},
   "source": [
    "### Prepare for GWAS\n",
    "\n",
    "#### Filter genotype data for GWAS input"
   ]
  },
  {
   "cell_type": "code",
   "execution_count": null,
   "metadata": {},
   "outputs": [],
   "source": [
    "#Import UKB data in PLINK form\n",
    "\n",
    "ukb = hl.read_matrix_table('/mnt/grid/ukbiobank/data/Application58510/skleeman/ukb_merged_raw.mt')\n",
    "\n",
    "print(ukb.count()) #How many variants to start with?\n",
    "\n",
    "#Filtering - based partly on https://github.com/Nealelab/UK_Biobank_GWAS/blob/master/imputed-v2-gwas/README.md\n",
    "\n",
    "ukb = hl.variant_qc(ukb) #Default Hail variant QC pipeline\n",
    "ukb = ukb.filter_rows(ukb.variant_qc.AF[1] > 0.01) #MAF > 1%\n",
    "ukb = ukb.filter_rows(ukb.variant_qc.call_rate > 0.95) #Filter by call rate > 95%\n",
    "\n",
    "print(ukb.count()) #How many variants are left?\n",
    "\n",
    "ukb.write('/mnt/grid/ukbiobank/data/Application58510/skleeman/ukb_grch37_filtered_forgwas.mt', overwrite=True) #Save pruned MT"
   ]
  },
  {
   "cell_type": "markdown",
   "metadata": {},
   "source": [
    "#### Generate covariate dataset from UKB phenotypes\n",
    "\n",
    "See GWAS_prep.R. This R script used to define phenotype (cortiscore), provide covariates (age, sex), remove samples not included in imputation, remove samples with sex chromosomal aneuploidy, remove outliers for missingness/heterozygosity rate, remove discordant sex."
   ]
  },
  {
   "cell_type": "markdown",
   "metadata": {},
   "source": [
    "#### Prepare for BOLT-LMM\n",
    "\n",
    "Prepare covariates and phenotype input in each super-population (defined as above). Principal components run on all SNPs (fastPCA implementation used for EUR subset due to very large sample size), this is as per BOLT-LMM paper."
   ]
  },
  {
   "cell_type": "code",
   "execution_count": null,
   "metadata": {},
   "outputs": [],
   "source": [
    "#Pre-process ancestry predictions, merge with phenotype data\n",
    "ukb_predictions = hl.read_table(\"/mnt/grid/ukbiobank/data/Application58510/skleeman/ukb_predictions.ht\")\n",
    "\n",
    "ukb_predictions_pd = ukb_predictions.to_pandas()\n",
    "ukb_predictions_pd = ukb_predictions_pd[[\"s\", \"pop\"]]\n",
    "ukb_predictions_pd = ukb_predictions_pd[ukb_predictions_pd['pop'] != \"Other\"]\n",
    "print(ukb_predictions_pd['pop'].value_counts(), flush=True)\n",
    "\n",
    "phenotypes = pd.read_csv('/mnt/grid/janowitz/home/skleeman/ukbiobank/cancergwas/phenotype_input_cystatinc_gwas.csv')\n",
    "phenotypes = phenotypes.drop(phenotypes.columns[0], axis=1)\n",
    "phenotypes = phenotypes.rename(columns={'id': 's'})\n",
    "phenotypes['s'] = phenotypes.s.astype(int)\n",
    "ukb_predictions_pd['s'] = ukb_predictions_pd.s.astype(int)\n",
    "\n",
    "phenotypes = phenotypes.merge(ukb_predictions_pd, how='inner', on='s')\n",
    "\n",
    "populations = phenotypes['pop'].unique().tolist()\n",
    "\n",
    "#Import GRCh37 data (filtered to call rate, MAF, no H-W filtering at present)\n",
    "ukb_gwas = hl.read_matrix_table('/mnt/grid/ukbiobank/data/Application58510/skleeman/ukb_grch37_filtered_forgwas.mt')\n",
    "\n",
    "#For each population, run PCA using FastPCA implemented in PLINK2, save covariate file, saved filtered binaries\n",
    "\n",
    "for pop in populations:\n",
    "    print(pop, flush=True)\n",
    "    phenotypes['s'] = phenotypes.s.astype(str)\n",
    "    \n",
    "    #Subset covariate file, make suitable for BOLT-LMM\n",
    "    \n",
    "    subset = phenotypes[phenotypes['pop'] == pop]\n",
    "    \n",
    "    frame = { 'FID': subset['s'], 'IID': subset['s'], 'cortiscore': subset['cortiscore'], 'age': subset['age_when_attended_assessment_centre_f21003'],\n",
    "        'age_squared': subset['age_when_attended_assessment_centre_f21003']**2, 'sex': subset['sex_f31_0_0'], 'steroid_factor': subset['steroid_factor'],\n",
    "        'height': subset['standing_height_f50'], 'weight': subset['weight_f21002'], 'array': subset['genotype_measurement_batch_f22000_0_0'],\n",
    "        'centre': subset['uk_biobank_assessment_centre_f54_0_0'], 'egfr_cystatin': subset['egfr_cystatin'],\n",
    "        'egfr_creatinine': subset['egfr_creatinine']} \n",
    "\n",
    "    covariates = pd.DataFrame(frame) \n",
    "    \n",
    "    #Subset GRCH37 version of UK biobank dataset\n",
    "    \n",
    "    subset_ht = hl.Table.from_pandas(subset['s'].to_frame(), key='s') \n",
    "    ukb_pop_gwas = ukb_gwas.filter_cols(hl.is_defined(subset_ht[ukb_gwas.col_key]))\n",
    "\n",
    "\n",
    "    #Save filtered PLINK file (GRCH37, include rsid)\n",
    "    \n",
    "    folder = '/mnt/grid/ukbiobank/data/Application58510/skleeman/gwas_cystatinc/' + pop + '/filtered_grch37'\n",
    "    \n",
    "    if not os.path.exists(folder + '.bim'):\n",
    "        hl.export_plink(ukb_pop_gwas, folder,\n",
    "                    fam_id = ukb_pop_gwas.fam_id, ind_id = ukb_pop_gwas.s, pat_id = ukb_pop_gwas.pat_id, mat_id = ukb_pop_gwas.mat_id,\n",
    "                    is_female = ukb_pop_gwas.is_female, varid = ukb_pop_gwas.rsid, pheno = -9)\n",
    "    \n",
    "    #Run PCA on all filtered variants, per population\n",
    "    \n",
    "    output = '/mnt/grid/ukbiobank/data/Application58510/skleeman/gwas_cystatinc/' + pop + '/pca'\n",
    "    eigenvec = output + '.eigenvec'\n",
    "    \n",
    "    if not os.path.exists(eigenvec):\n",
    "        print('Start PCA', flush=True)\n",
    "        if pop == \"EUR\":  #PLINK PCA, approx\n",
    "            commands = \"plink2 --bfile %s --pca 20 approx --out %s --threads 25\" % (folder, output)\n",
    "        else: #PLINK PCA, not approx\n",
    "            commands = \"plink2 --bfile %s --pca 20 --out %s --threads 25\" % (folder, output)\n",
    "        output = subprocess.check_output(commands, shell=True)\n",
    "        print(output)\n",
    "        print('Finish PCA', flush=True)\n",
    "    \n",
    "    pca_plot = pd.read_csv(eigenvec, sep='\\t')\n",
    "    pca_plot.drop(pca_plot.columns[[0]], axis=1, inplace=True)\n",
    "    \n",
    "    #Add PCA results to covariates file, then save\n",
    "    \n",
    "    covariates.IID = pd.to_numeric(covariates.IID)\n",
    "    covariates = covariates.merge(pca_plot, left_on='IID', right_on='IID')\n",
    "    folder = '/mnt/grid/ukbiobank/data/Application58510/skleeman/gwas_cystatinc/' + pop + '/covariates.tsv'\n",
    "    covariates.to_csv(folder, sep=\"\\t\", index=False)"
   ]
  }
 ],
 "metadata": {
  "kernelspec": {
   "display_name": "Python/3.7.4 (src)",
   "language": "python",
   "name": "python_3.7.4-gcccore-8.3.0"
  },
  "language_info": {
   "codemirror_mode": {
    "name": "ipython",
    "version": 3
   },
   "file_extension": ".py",
   "mimetype": "text/x-python",
   "name": "python",
   "nbconvert_exporter": "python",
   "pygments_lexer": "ipython3",
   "version": "3.7.4"
  }
 },
 "nbformat": 4,
 "nbformat_minor": 4
}
