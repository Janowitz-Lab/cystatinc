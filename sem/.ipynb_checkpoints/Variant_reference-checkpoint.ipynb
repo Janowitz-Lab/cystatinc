{
 "cells": [
  {
   "cell_type": "markdown",
   "metadata": {},
   "source": [
    "## Variant reference\n",
    "\n",
    "This notebook summarizes the generation of the variant reference file for GenomicSEM."
   ]
  },
  {
   "cell_type": "markdown",
   "metadata": {},
   "source": [
    "### Prequisites"
   ]
  },
  {
   "cell_type": "code",
   "execution_count": null,
   "metadata": {},
   "outputs": [],
   "source": [
    "import seaborn as sns\n",
    "import hail as hl\n",
    "import os\n",
    "from gnomad.utils.liftover import *\n",
    "from gnomad.utils.annotations import *\n",
    "from gnomad.sample_qc.pipeline import *\n",
    "from gnomad.sample_qc.ancestry import *\n",
    "\n",
    "tmp = \"/mnt/grid/janowitz/home/skleeman/tmp2\"\n",
    "os.environ[\"SPARK_LOCAL_DIRS\"]=tmp\n",
    "\n",
    "os.environ[\"PYSPARK_SUBMIT_ARGS\"] =\"--driver-memory 200g --executor-memory 2g pyspark-shell\"\n",
    "\n",
    "hl.init(default_reference='GRCh38', master='local[16]',min_block_size=128, local_tmpdir=tmp, tmp_dir=tmp)"
   ]
  },
  {
   "cell_type": "markdown",
   "metadata": {},
   "source": [
    "### Generate reference\n",
    "\n",
    "Use BOLT-LMM output from GWAS in order to extract allele frequency for effect allele. As GWAS is performed separately in each super-population this gives accuracy allele frequencies according to the super-populations we defined across all imputed SNPs with INFO > 0.8. Set A1 to ALT and A2 to REF (using GRCH37 reference) then calculate variant/ALT allele frequency. Annotated with MAF where MAF = VAF where VAF < 0.5 and MAF = 1 - VAF where VAF > 0.5. We create two references - one for MAF >0.5% and one for MAF >1%, we use the MAF >0.5% for GenomicSEM analysis."
   ]
  },
  {
   "cell_type": "code",
   "execution_count": null,
   "metadata": {},
   "outputs": [],
   "source": [
    "populations=[\"AFR\",\"CSA\",\"EAS\", \"EUR\"]\n",
    "#populations=[\"EUR\"]\n",
    "\n",
    "rg = hl.get_reference('GRCh37')\n",
    "rg.add_sequence('/mnt/grid/janowitz/home/references/liftover/human_g1k_v37.fasta.gz') \n",
    "\n",
    "for pop in populations:\n",
    "    folder = '/mnt/grid/ukbiobank/data/Application58510/skleeman/gwas_cystatinc/' + pop +'/'\n",
    "    \n",
    "    summary1 = hl.import_table(folder + 'cystatin_bolt_stats_bgen.gz', impute=True, force=True)\n",
    "\n",
    "    summary1 = summary1.annotate(locus=hl.locus(hl.str(summary1.CHR), summary1.BP,reference_genome='GRCh37'))\n",
    "    summary1 = summary1.key_by(summary1.locus)\n",
    "    \n",
    "    summary1 = summary1.select(CHR = summary1.CHR, BP = summary1.BP, SNP = summary1.SNP, A1 = summary1.ALLELE1, A2 = summary1.ALLELE0, VAF=summary1.A1FREQ)\n",
    "    \n",
    "    summary1 = summary1.annotate(\n",
    "        MAF = hl.if_else(summary1.VAF <= 0.5, summary1.VAF, 1 - summary1.VAF),\n",
    "        REF = summary1.locus.sequence_context())\n",
    "\n",
    "    summary1 = summary1.annotate(\n",
    "        ALT = (hl.case()\n",
    "            .when(summary1.A1 == summary1.REF, summary1.A2)\n",
    "            .when(summary1.A2 == summary1.REF, summary1.A1)\n",
    "            .or_missing()),\n",
    "        ALT_FREQ = (hl.case()\n",
    "            .when(summary1.A1 == summary1.REF, 1-summary1.VAF)\n",
    "            .when(summary1.A2 == summary1.REF, summary1.VAF)\n",
    "            .or_missing()),\n",
    "    )\n",
    "    \n",
    "    summary1 = summary1.filter(hl.is_snp(summary1.REF, summary1.ALT))\n",
    "    summary1 = summary1.key_by(summary1.SNP)\n",
    "    summary1 = summary1.select(CHR = summary1.CHR, BP = summary1.BP, MAF=summary1.MAF, A1 = summary1.ALT, A2 = summary1.REF, ALT_FREQ = summary1.ALT_FREQ)\n",
    "    \n",
    "    summary1 = summary1.filter(summary1.MAF > 0.005)\n",
    "    print(summary1.count())\n",
    "    summary1.export('/mnt/grid/janowitz/home/references/maf/panukb_snps0.005_'+ pop +'.tsv')\n",
    "    \n",
    "    summary1 = summary1.filter(summary1.MAF > 0.01)\n",
    "    print(summary1.count())\n",
    "    summary1.export('/mnt/grid/janowitz/home/references/maf/panukb_snps0.01_'+ pop +'.tsv')"
   ]
  },
  {
   "cell_type": "markdown",
   "metadata": {},
   "source": [
    "### Remove duplicate SNPs\n",
    "\n",
    "Advised by authors of GenomicSEM that multi-allelic/duplicate SNPs (dbSNP ID found twice in variant reference file) need to be removed - email from Michael Nivard: \"I quickly discussed this, and  we see some issues, for one its hard to determine what the variance of a multi-alleic variant is. This in turn will cause issues down stream when defining the variance of a SNP in the covariance matrix.\""
   ]
  },
  {
   "cell_type": "code",
   "execution_count": null,
   "metadata": {},
   "outputs": [],
   "source": [
    "%%bash\n",
    "\n",
    "cd /mnt/grid/janowitz/home/references/maf/\n",
    "\n",
    "awk 'NR == 1 ; NR > 1 {a[$1]++;b[$1]=$0}END{for(x in a)if(a[x]==1)print b[x]}' panukb_snps0.005_AFR.tsv > panukb_snps0.005_AFR_dedup.tsv\n",
    "awk 'NR == 1 ; NR > 1 {a[$1]++;b[$1]=$0}END{for(x in a)if(a[x]==1)print b[x]}' panukb_snps0.005_CSA.tsv > panukb_snps0.005_CSA_dedup.tsv\n",
    "awk 'NR == 1 ; NR > 1 {a[$1]++;b[$1]=$0}END{for(x in a)if(a[x]==1)print b[x]}' panukb_snps0.005_EAS.tsv > panukb_snps0.005_EAS_dedup.tsv\n",
    "awk 'NR == 1 ; NR > 1 {a[$1]++;b[$1]=$0}END{for(x in a)if(a[x]==1)print b[x]}' panukb_snps0.005_EUR.tsv > panukb_snps0.005_EUR_dedup.tsv\n",
    "\n",
    "awk 'NR == 1 ; NR > 1 {a[$1]++;b[$1]=$0}END{for(x in a)if(a[x]==1)print b[x]}' panukb_snps0.01_AFR.tsv > panukb_snps0.01_AFR_dedup.tsv\n",
    "awk 'NR == 1 ; NR > 1 {a[$1]++;b[$1]=$0}END{for(x in a)if(a[x]==1)print b[x]}' panukb_snps0.01_CSA.tsv > panukb_snps0.01_CSA_dedup.tsv\n",
    "awk 'NR == 1 ; NR > 1 {a[$1]++;b[$1]=$0}END{for(x in a)if(a[x]==1)print b[x]}' panukb_snps0.01_EAS.tsv > panukb_snps0.01_EAS_dedup.tsv\n",
    "awk 'NR == 1 ; NR > 1 {a[$1]++;b[$1]=$0}END{for(x in a)if(a[x]==1)print b[x]}' panukb_snps0.01_EUR.tsv > panukb_snps0.01_EUR_dedup.tsv"
   ]
  }
 ],
 "metadata": {
  "kernelspec": {
   "display_name": "Python 3",
   "language": "python",
   "name": "python3"
  },
  "language_info": {
   "codemirror_mode": {
    "name": "ipython",
    "version": 3
   },
   "file_extension": ".py",
   "mimetype": "text/x-python",
   "name": "python",
   "nbconvert_exporter": "python",
   "pygments_lexer": "ipython3",
   "version": "3.8.5"
  }
 },
 "nbformat": 4,
 "nbformat_minor": 4
}
