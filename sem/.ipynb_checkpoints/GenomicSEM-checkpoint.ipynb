{
 "cells": [
  {
   "cell_type": "markdown",
   "metadata": {},
   "source": [
    "## Latent trait GWAS\n",
    "\n",
    "Implementation of GenomicSEM to analyze cystatin C production and renal function as latent traits.\n",
    "\n",
    "### Load prequisites"
   ]
  },
  {
   "cell_type": "code",
   "execution_count": null,
   "metadata": {},
   "outputs": [],
   "source": [
    "library(GenomicSEM)\n",
    "setwd(\"/mnt/grid/ukbiobank/data/Application58510/skleeman/gwas_cystatinc/PRS/sem\")"
   ]
  },
  {
   "cell_type": "markdown",
   "metadata": {},
   "source": [
    "### Prepare data\n",
    "\n",
    "Loop through each super-population. We found only AFR, CSA and EUR super-populations had sufficient trait heritability to perform SEM analysis. This is as per the GenomicSEM tutorial available at https://rpubs.com/MichelNivard/565885. We used LD references generated in UK Biobank population as part of the PanUKB project. The package requires a variant reference file, and as one was only provided for european populations we generate a variant reference in each super-population using UKB data. This is summarized in the notebook 'Variant_reference.ipynb'."
   ]
  },
  {
   "cell_type": "code",
   "execution_count": null,
   "metadata": {},
   "outputs": [],
   "source": [
    "populations=c(\"AFR\",\"CSA\",\"EUR\")\n",
    "\n",
    "\n",
    "for (pop in populations) {\n",
    "    print(pop)\n",
    "    folder=paste('/mnt/grid/ukbiobank/data/Application58510/skleeman/gwas_cystatinc/PRS/',pop,'/',sep='')\n",
    "    print(folder)\n",
    "    setwd(folder)\n",
    "    flush.console() \n",
    "    \n",
    "    if (file.exists(paste(folder,'cystatin.sumstats.gz', sep=''))) {\n",
    "    #Delete file if it exists\n",
    "        file.remove(paste(folder,'cystatin.sumstats.gz', sep=''))\n",
    "    }\n",
    "    \n",
    "    if (file.exists(paste(folder,'creatinine.sumstats.gz', sep=''))) {\n",
    "    #Delete file if it exists\n",
    "        file.remove(paste(folder,'creatinine.sumstats.gz', sep=''))\n",
    "    }\n",
    "    \n",
    "    ref = paste(\"/mnt/grid/janowitz/home/references/maf/panukb_snps0.01_\",pop,'_dedup.tsv',sep='')\n",
    "\n",
    "    #Munge summary statistics\n",
    "    munge(paste(folder,'cystatin_summary.tsv',sep=''), \n",
    "          ref,\n",
    "          trait.names=\"cystatin\", \n",
    "          info.filter = 0.8,\n",
    "          maf.filter = 0.00)\n",
    "\n",
    "    munge(paste(folder,'creatinine_summary.tsv',sep=''), \n",
    "          ref,\n",
    "          trait.names=\"creatinine\", \n",
    "          info.filter = 0.8,\n",
    "          maf.filter = 0.00)\n",
    "    \n",
    "    flush.console() \n",
    "\n",
    "    #Perform LD score regression\n",
    "    traits <- c(\"cystatin.sumstats.gz\",\"creatinine.sumstats.gz\")\n",
    "    sample.prev <- c(NA,NA)\n",
    "    population.prev <- c(NA,NA)\n",
    "    ld<-paste(\"/mnt/grid/ukbiobank/data/Application58510/skleeman/gwas_cystatinc/UKBB.ALL.ldscore/\",pop,sep='')\n",
    "    wld <- paste(\"/mnt/grid/ukbiobank/data/Application58510/skleeman/gwas_cystatinc/UKBB.ALL.ldscore/\",pop,sep='')\n",
    "    trait.names<-c(\"cystatin\", \"creatinine\")\n",
    "    \n",
    "    print(ld)\n",
    "    flush.console() \n",
    "\n",
    "    LDSCoutput <- ldsc(traits, \n",
    "                       sample.prev, \n",
    "                       population.prev, \n",
    "                       ld, \n",
    "                       wld, \n",
    "                       trait.names,\n",
    "                       chr=1)\n",
    "\n",
    "    LDSCoutput$I[1] = 1\n",
    "    LDSCoutput$I[4] = 1\n",
    "    \n",
    "    flush.console() \n",
    "\n",
    "    save(LDSCoutput, file=paste(folder,\"LDSCoutput.RData\",sep=''))\n",
    "    \n",
    "    #Define SEM model\n",
    "    model<-'C=~NA*cystatin\n",
    "        NC=~NA*creatinine +NA*cystatin\n",
    "\n",
    "\n",
    "        C~~1*C\n",
    "        NC~~1*NC\n",
    "        C~~ 0*NC\n",
    "\n",
    "        cystatin~~0*cystatin\n",
    "        cystatin~~0*creatinine\n",
    "        creatinine~~0*creatinine\n",
    "    '\n",
    "    \n",
    "    #Esimate model without SNP data at this stage, to confirm model parameters seem reasonable\n",
    "    output = usermodel(LDSCoutput,estimation=\"DWLS\",model=model)\n",
    "    print(output)\n",
    "    \n",
    "    flush.console() \n",
    "\n",
    "    #Import variant reference file\n",
    "    files = c(paste(folder,'cystatin_summary.tsv',sep=''),paste(folder,'creatinine_summary.tsv',sep=''))\n",
    "    ref = paste(\"/mnt/grid/janowitz/home/references/maf/panukb_snps0.005_\",pop,'_dedup.tsv',sep='')\n",
    "    trait.names = c(\"cystatin\",\"creatinine\")\n",
    "    se.logit = c(F,F)\n",
    "\n",
    "\n",
    "    p_sumstats<-sumstats(files, ref, trait.names, se.logit, info.filter=0.8, maf.filter=0.00, OLS=c(T,T),linprob=NULL, prop=NULL, parallel=TRUE, cores=16)\n",
    "    p_sumstats<-unique(p_sumstats)\n",
    "    save(p_sumstats, file=paste(folder,\"sumstats.RData\", sep=''))\n",
    "    flush.console() \n",
    "}\n",
    "\n"
   ]
  },
  {
   "cell_type": "markdown",
   "metadata": {},
   "source": [
    "#### Run SNP model"
   ]
  },
  {
   "cell_type": "code",
   "execution_count": null,
   "metadata": {},
   "outputs": [],
   "source": [
    "#!/usr/bin/env Rscript\n",
    "args = commandArgs(trailingOnly=TRUE)\n",
    "index = as.numeric(args[1])\n",
    "pop = as.character(args[2])\n",
    "\n",
    "library(GenomicSEM)\n",
    "\n",
    "setwd(paste(\"/mnt/grid/ukbiobank/data/Application58510/skleeman/gwas_cystatinc/\",pop, sep=''))\n",
    "\n",
    "\n",
    "load(file=\"sumstats.RData\")\n",
    "load(file=\"LDSCoutput.RData\")\n",
    "\n",
    "\n",
    "# model with SNP\n",
    "\n",
    "model<-'C=~NA*cystatin\n",
    "        NC=~NA*creatinine +NA*cystatin\n",
    "\n",
    "        C~SNP\n",
    "        NC~SNP\n",
    "\n",
    "        C~~1*C\n",
    "        NC~~1*NC\n",
    "        C~~ 0*NC\n",
    "\n",
    "        cystatin~~0*cystatin\n",
    "        cystatin~~0*creatinine\n",
    "        creatinine~~0*creatinine\n",
    "        SNP~~SNP'\n",
    "\n",
    "GWAS_final = userGWAS(covstruc=LDSCoutput,SNPs=subset(p_sumstats, CHR==index),estimation=\"DWLS\",model=model,parallel=FALSE ,sub =c(\"C~SNP\",\"NC~SNP\"))\n",
    "filename=paste(\"sem_output/\",\"_chr\",index, '.RData', sep='')\n",
    "save(GWAS_final, file=filename)"
   ]
  },
  {
   "cell_type": "markdown",
   "metadata": {},
   "source": [
    "This script was called using the following bash script"
   ]
  },
  {
   "cell_type": "code",
   "execution_count": null,
   "metadata": {},
   "outputs": [],
   "source": [
    "%%bash\n",
    "\n",
    "Rscript --no-save --slave /mnt/grid/ukbiobank/data/Application58510/skleeman/gwas_cystatinc/sem.R $chr $population"
   ]
  },
  {
   "cell_type": "markdown",
   "metadata": {},
   "source": [
    "### Post-processing\n",
    "\n",
    "SNP modelling was run in parallel across chromosomes, after completion following script is used to merge the output files."
   ]
  },
  {
   "cell_type": "code",
   "execution_count": null,
   "metadata": {},
   "outputs": [],
   "source": [
    "pop=\"EUR\"\n",
    "setwd(paste(\"/mnt/grid/ukbiobank/data/Application58510/skleeman/gwas_cystatinc/PRS/\",pop, '/sem_output',sep=''))\n",
    "\n",
    "files <- list.files(pattern = \"*RData\")\n",
    "print(files)\n",
    "\n",
    "latent1_full = data.frame()\n",
    "latent2_full = data.frame()\n",
    "\n",
    "for (file in files) {\n",
    "    print(file)\n",
    "    flush.console() \n",
    "    load(file)\n",
    "    latent1 = GWAS_final[[1]]\n",
    "    latent2 = GWAS_final[[2]]\n",
    "    latent1_full = rbind(latent1,latent1_full)\n",
    "    latent2_full = rbind(latent2, latent2_full)\n",
    "    rm(GWAS_final)\n",
    "}\n",
    "\n",
    "print(nrow(latent1_full))\n",
    "latent1_full = latent1_full[,c(-17,-16)]\n",
    "latent1_full = latent1_full[,c(1,2,3,4,5,6,12,13,14,15)]\n",
    "latent1_full = subset(latent1_full, Pval_Estimate!=\"NA\")\n",
    "print(nrow(latent1_full))\n",
    "\n",
    "print(nrow(latent2_full))\n",
    "latent2_full = latent2_full[,c(-17,-16)]\n",
    "latent2_full = latent2_full[,c(1,2,3,4,5,6,12,13,14,15)]\n",
    "latent2_full = subset(latent2_full, Pval_Estimate!=\"NA\")\n",
    "print(nrow(latent2_full))\n",
    "\n",
    "write.table(latent1_full, \"/mnt/grid/ukbiobank/data/Application58510/skleeman/gwas_cystatinc/EUR/summ_SEM_cystatin.tsv\", row.names = FALSE, quote=FALSE,sep='\\t')\n",
    "write.table(latent2_full, \"/mnt/grid/ukbiobank/data/Application58510/skleeman/gwas_cystatinc/EUR/summ_SEM_creatinine.tsv\", row.names = FALSE, quote=FALSE,sep='\\t')"
   ]
  },
  {
   "cell_type": "markdown",
   "metadata": {},
   "source": [
    "### Estimation of effect sample size\n",
    "\n",
    "As per GenomicSEM wiki page"
   ]
  },
  {
   "cell_type": "code",
   "execution_count": null,
   "metadata": {},
   "outputs": [],
   "source": [
    "#restrict to MAF of 40% and 10%\n",
    "latent1_calc<-subset(latent1_full, latent1_full$MAF <= .4 & latent1_full$MAF >= .1)\n",
    "#calculate effective N\n",
    "Effective_N<-(mean(((latent1_calc$Z_Estimate/latent1_calc$est)^2)/(2*latent1_calc$MAF*(1-latent1_calc$MAF))))\n",
    "Effective_N"
   ]
  }
 ],
 "metadata": {
  "kernelspec": {
   "display_name": "Python 3",
   "language": "python",
   "name": "python3"
  },
  "language_info": {
   "codemirror_mode": {
    "name": "ipython",
    "version": 3
   },
   "file_extension": ".py",
   "mimetype": "text/x-python",
   "name": "python",
   "nbconvert_exporter": "python",
   "pygments_lexer": "ipython3",
   "version": "3.8.5"
  }
 },
 "nbformat": 4,
 "nbformat_minor": 4
}
