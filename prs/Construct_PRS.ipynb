{
 "cells": [
  {
   "cell_type": "markdown",
   "metadata": {},
   "source": [
    "## Generate polygenic risk score\n",
    "\n",
    "This notebook is used to generate a polygenic risk score in UKB training set (approx 380k european subjects). This is then separately validated in 50k unrelated UKB european subjects. This polygenic risk score is constructed using LDPred2 following the tutorial at https://privefl.github.io/bigsnpr/articles/LDpred2.html.\n",
    "\n",
    "This script is implemented in R."
   ]
  },
  {
   "cell_type": "markdown",
   "metadata": {},
   "source": [
    "### Prerequisites"
   ]
  },
  {
   "cell_type": "code",
   "execution_count": 1,
   "metadata": {},
   "outputs": [
    {
     "name": "stderr",
     "output_type": "stream",
     "text": [
      "Loading required package: bigstatsr\n",
      "\n"
     ]
    }
   ],
   "source": [
    "library(bigsnpr)\n",
    "library(data.table)\n",
    "\n",
    "options(bigstatsr.check.parallel.blas = FALSE)\n",
    "options(default.nproc.blas = NULL)"
   ]
  },
  {
   "cell_type": "markdown",
   "metadata": {},
   "source": [
    "### Import summary statistics\n",
    "\n",
    "Latent trait GWAS (BOLT-LMM, then GenomicSEM) on UKB training sets."
   ]
  },
  {
   "cell_type": "code",
   "execution_count": null,
   "metadata": {},
   "outputs": [],
   "source": [
    "gwas_cystatin = read.table('/mnt/grid/ukbiobank/data/Application58510/skleeman/gwas_cystatinc/PRS/EUR/summ_SEM_cystatin_vaf_effectflip_exome.tsv', sep = '\\t', header = TRUE)\n",
    "\n",
    "#Set column labels as per LDPred2 instructions\n",
    "names(gwas_cystatin) = c('chr','pos','SNPID','a1','a0','MAF','beta','beta_se','P','N','ALT_FREQ')"
   ]
  },
  {
   "cell_type": "markdown",
   "metadata": {},
   "source": [
    "### Match SNPs to LD reference\n",
    "\n",
    "LD reference downloaded per LDPred2 tutorial"
   ]
  },
  {
   "cell_type": "code",
   "execution_count": null,
   "metadata": {},
   "outputs": [],
   "source": [
    "map_ldref <- readRDS(\"ukb_ld/map.rds\")\n",
    "sumstats <- gwas_cystatin\n",
    "sumstats$n_eff <- sumstats$N\n",
    "\n",
    "info_snp <- snp_match(sumstats, map_ldref, match.min.prop=0)\n",
    "(info_snp <- tidyr::drop_na(tibble::as_tibble(info_snp)))\n",
    "\n",
    "df_beta <- info_snp"
   ]
  },
  {
   "cell_type": "markdown",
   "metadata": {},
   "source": [
    "### Generate LD matrices"
   ]
  },
  {
   "cell_type": "code",
   "execution_count": null,
   "metadata": {},
   "outputs": [],
   "source": [
    "tmp <- tempfile(tmpdir = \"tmp-data\")\n",
    "\n",
    "for (chr in 1:22) {\n",
    "\n",
    "  cat(chr, \".. \", sep = \"\")\n",
    "\n",
    "  ## indices in 'df_beta'\n",
    "  ind.chr <- which(df_beta$chr == chr)\n",
    "  ## indices in 'map_ldref'\n",
    "  ind.chr2 <- df_beta$`_NUM_ID_`[ind.chr]\n",
    "  ## indices in 'corr_chr'\n",
    "  ind.chr3 <- match(ind.chr2, which(map_ldref$chr == chr))\n",
    "\n",
    "  corr_chr <- readRDS(paste0(\"ukb_ld/LD_chr\", chr, \".rds\"))[ind.chr3, ind.chr3]\n",
    "\n",
    "  if (chr == 1) {\n",
    "    corr <- as_SFBM(corr_chr, tmp)\n",
    "  } else {\n",
    "    corr$add_columns(corr_chr, nrow(corr))\n",
    "  }\n",
    "}\n",
    "\n",
    "saveRDS(corr, file = \"corr_hm3_cystatin_prs.rds\")\n",
    "saveRDS(df_beta, file = \"df_beta_hm3_cystatin_prs.rds\")"
   ]
  },
  {
   "cell_type": "markdown",
   "metadata": {},
   "source": [
    "### Run LDPred2-AUTO\n",
    "\n",
    "Difficult to perform LDSC using a latent trait so we use a placeholder heritability estimate of 0.4, this appeared to perform well for our use case."
   ]
  },
  {
   "cell_type": "code",
   "execution_count": null,
   "metadata": {},
   "outputs": [],
   "source": [
    "map_ldref <- readRDS(\"ukb_ld/map.rds\")\n",
    "\n",
    "N_CORES = 32\n",
    "corr = readRDS(file = \"corr_hm3_cystatin_prs_exome.rds\")\n",
    "df_beta = readRDS(file = \"df_beta_hm3_cystatin_prs_exome.rds\")\n",
    "\n",
    "h2_est <- 0.4\n",
    "\n",
    "# LDpred2-auto\n",
    "multi_auto <- snp_ldpred2_auto(corr, df_beta, h2_init = h2_est,\n",
    "                               vec_p_init = seq_log(1e-4, 0.9, N_CORES),\n",
    "                               ncores = N_CORES)\n",
    "beta_auto <- sapply(multi_auto, function(auto) auto$beta_est)\n",
    "                    \n",
    "saveRDS(multi_auto, file = \"multi_auto_hm3_cystatin_prs.rds\")\n",
    "saveRDS(beta_auto, file = \"beta_auto_hm3_cystatin_prs.rds\")"
   ]
  },
  {
   "cell_type": "markdown",
   "metadata": {},
   "source": [
    "### Visualize chain\n",
    "\n",
    "Authors recommend visually inspected the trace to confirm that the model has converged, in our case it clearly does."
   ]
  },
  {
   "cell_type": "code",
   "execution_count": null,
   "metadata": {},
   "outputs": [],
   "source": [
    "multi_auto = readRDS(file = \"multi_auto_hm3_cystatin_prs.rds\")\n",
    "beta_auto = readRDS(file = \"beta_auto_hm3_cystatin_prs.rds\")\n",
    "df_beta = readRDS(file = \"df_beta_hm3_cystatin_prs.rds\")\n",
    "\n",
    "library(ggplot2)\n",
    "auto <- multi_auto[[1]]\n",
    "plot_grid(\n",
    "  qplot(y = auto$path_p_est) + \n",
    "    theme_bigstatsr() + \n",
    "    geom_hline(yintercept = auto$p_est, col = \"blue\") +\n",
    "    scale_y_log10() +\n",
    "    labs(y = \"p\"),\n",
    "  qplot(y = auto$path_h2_est) + \n",
    "    theme_bigstatsr() + \n",
    "    geom_hline(yintercept = auto$h2_est, col = \"blue\") +\n",
    "    labs(y = \"h2\"),\n",
    "  ncol = 1, align = \"hv\"\n",
    ")"
   ]
  },
  {
   "cell_type": "markdown",
   "metadata": {},
   "source": [
    "### Generate score\n",
    "\n",
    "We create a variant column as an alternative to match by dbSNP ID, this is helpful for the exome sequencing cohort as saves us having to annotate each SNP with dbSNP ID."
   ]
  },
  {
   "cell_type": "code",
   "execution_count": null,
   "metadata": {},
   "outputs": [],
   "source": [
    "info_snp = df_beta\n",
    "\n",
    "info_snp$beta_auto <- rowMeans(beta_auto)\n",
    "info_snp$variant <- paste(info_snp$chr, info_snp$pos, sep=':')\n",
    "save = info_snp[,c(5, 4, 21, 22)]\n",
    "write.table(save, file='UKB380_PGS_LDPRED2.tsv', quote=FALSE, sep='\\t', row.names = FALSE)"
   ]
  }
 ],
 "metadata": {
  "kernelspec": {
   "display_name": "R/4.0.3",
   "language": "R",
   "name": "r_4.0.3"
  },
  "language_info": {
   "codemirror_mode": "r",
   "file_extension": ".r",
   "mimetype": "text/x-r-source",
   "name": "R",
   "pygments_lexer": "r",
   "version": "4.0.3"
  }
 },
 "nbformat": 4,
 "nbformat_minor": 4
}
