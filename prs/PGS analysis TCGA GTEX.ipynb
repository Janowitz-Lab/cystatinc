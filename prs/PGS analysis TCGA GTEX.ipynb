{
 "cells": [
  {
   "cell_type": "markdown",
   "metadata": {},
   "source": [
    "# PGS analysis in TCGA/GTEX\n",
    "\n",
    "## Import packages"
   ]
  },
  {
   "cell_type": "code",
   "execution_count": null,
   "metadata": {},
   "outputs": [],
   "source": [
    "library(edgeR)\n",
    "library(readr)\n",
    "library(readxl)\n",
    "library(data.table)\n",
    "library(dplyr)\n",
    "library(tidyr)"
   ]
  },
  {
   "cell_type": "markdown",
   "metadata": {},
   "source": [
    "## GTEX\n",
    "\n",
    "### Import metadata"
   ]
  },
  {
   "cell_type": "code",
   "execution_count": null,
   "metadata": {},
   "outputs": [],
   "source": [
    "sample_meta = read_excel('/mnt/grid/janowitz/rdata_norepl/gtex/counts/sampledata_gtex_SKclean.xlsx')\n",
    "subject_meta = read_excel('/mnt/grid/janowitz/rdata_norepl/gtex/counts/subjectdata_gtex_SKclean.xlsx')"
   ]
  },
  {
   "cell_type": "markdown",
   "metadata": {},
   "source": [
    "### Import PGS"
   ]
  },
  {
   "cell_type": "code",
   "execution_count": null,
   "metadata": {},
   "outputs": [],
   "source": [
    "pgs = read_table2('/grid/wsbs/home_norepl/skleeman/PGS/final/GTEX_UKB380_PGS_inner.sscore')\n",
    "scale2 <- function(x, na.rm = TRUE) (x - mean(x, na.rm = na.rm)) / sd(x, na.rm)\n",
    "pgs$score_scale = scale2(pgs$SCORE1_AVG)\n",
    "m<-match(subject_meta$SUBJID, pgs$IID)\n",
    "subject_meta$pgs_score = pgs$score_scale[m]\n",
    "subject_meta"
   ]
  },
  {
   "cell_type": "markdown",
   "metadata": {},
   "source": [
    "### Import counts"
   ]
  },
  {
   "cell_type": "code",
   "execution_count": null,
   "metadata": {},
   "outputs": [],
   "source": [
    "dt = fread(\"/mnt/grid/janowitz/rdata_norepl/gtex/counts/GTEx_Analysis_2017-06-05_v8_RNASeQCv1.1.9_gene_reads.gct.gz\")\n",
    "genes = data.frame(ensembl_id = dt$Name, gene_name = dt$Description)\n",
    "\n",
    "\n",
    "library(\"GenomicFeatures\")\n",
    "gtf_txdb <- makeTxDbFromGFF(\"/mnt/grid/janowitz/home/references/human_rna/gencode.v26.annotation.gtf.gz\")\n",
    "exons_list_per_gene <- exonsBy(gtf_txdb,by=\"gene\")\n",
    "widths <- width(reduce(exons_list_per_gene))\n",
    "totalexonlength <- vapply(widths, sum, numeric(1))\n",
    "m<-match(gsub(\"\\\\..*\",\"\",genes$ensembl_id), gsub(\"\\\\..*\",\"\",names(totalexonlength)))\n",
    "genes$length = totalexonlength[m]\n",
    "\n",
    "y <- DGEList(counts=as.matrix(dt[,-c(1:2)]),genes=genes)\n",
    "\n",
    "keep <- rowSums(cpm(y)>1) >= 15 #Arbritary, need expression in at least 15 samples\n",
    "y <- y[keep, , keep.lib.sizes=FALSE]\n",
    "\n",
    "y <- calcNormFactors(y)"
   ]
  },
  {
   "cell_type": "code",
   "execution_count": null,
   "metadata": {},
   "outputs": [],
   "source": [
    "logcpm <- cpm(y, log=TRUE)\n",
    "\n",
    "#Lets use TPM\n",
    "\n",
    "#RPKM <- rpkm(y)\n",
    "#logcpm <- t( t(RPKM) / colSums(RPKM, na.rm=TRUE) ) * 1e6\n",
    "#logcpm <- log2(logcpm+0.1)\n",
    "\n",
    "row.names(logcpm)<-y$genes$gene_name\n",
    "logcpm <- subset(logcpm, row.names(logcpm)==\"CST3\" | row.names(logcpm)==\"FKBP5\" | row.names(logcpm)==\"SERPINA6\" | row.names(logcpm)==\"SERPINA1\")\n",
    "logcpm<-as.data.frame(t(logcpm))\n",
    "logcpm$SAMPID = row.names(logcpm)\n",
    "logcpm<-inner_join(logcpm, sample_meta, by=\"SAMPID\")\n",
    "logcpm$SUBJID = sub('^([^-]+-[^-]+).*', '\\\\1', logcpm$SAMPID)\n",
    "logcpm<-left_join(logcpm, subject_meta, by=\"SUBJID\")\n",
    "logcpm"
   ]
  },
  {
   "cell_type": "code",
   "execution_count": null,
   "metadata": {},
   "outputs": [],
   "source": [
    "correl = logcpm %>% drop_na(pgs_score) %>%\n",
    "    group_by(sample_type) %>% \n",
    "    dplyr::summarize(cor = cor(pgs_score, CST3, method='spearman'), p=cor.test(pgs_score, CST3,method='spearman')$p.value,\n",
    "                    n=n()) %>% filter(n>150) %>% arrange(desc(cor))"
   ]
  },
  {
   "cell_type": "code",
   "execution_count": null,
   "metadata": {},
   "outputs": [],
   "source": [
    "correl"
   ]
  },
  {
   "cell_type": "code",
   "execution_count": null,
   "metadata": {},
   "outputs": [],
   "source": [
    "library(ggplot2)\n",
    "options(repr.plot.width=7, repr.plot.height=5)\n",
    "\n",
    "\n",
    "de = correl\n",
    "# add a column of NAs\n",
    "de$diffexpressed <- \"NO\"\n",
    "# if log2Foldchange > 0.6 and pvalue < 0.05, set as \"UP\" \n",
    "de$diffexpressed[de$cor > 0 & de$p < 0.05] <- \"UP\"\n",
    "# if log2Foldchange < -0.6 and pvalue < 0.05, set as \"DOWN\"\n",
    "de$diffexpressed[de$cor < 0 & de$p < 0.05] <- \"DOWN\"\n",
    "\n",
    "de$delabel <- NA\n",
    "de$delabel[de$diffexpressed != \"NO\"] <- de$sample_type[de$diffexpressed != \"NO\"]\n",
    "\n",
    "\n",
    "library(ggrepel)\n",
    "# plot adding up all layers we have seen so far\n",
    "ggplot(data=de, aes(x=cor, y=-log10(p), col=diffexpressed, label=delabel)) +\n",
    "        geom_point() + \n",
    "        theme_bw() +\n",
    "        geom_text_repel(size=5) +\n",
    "        scale_color_manual(values=c(\"blue\", \"black\", \"red\"))+xlim(-0.2,0.2)+ylim(0,2)+xlab(\"Spearman correlation coefficient\")+ylab(\"-log10(p-value)\") +\n",
    "        geom_hline(yintercept=-log10(0.05))+geom_vline(xintercept=0)\n",
    "\n",
    "ggsave('/mnt/grid/janowitz/home/skleeman/cystatinc/figure_prep/figure3a.pdf', width=7, height=5)"
   ]
  },
  {
   "cell_type": "code",
   "execution_count": null,
   "metadata": {},
   "outputs": [],
   "source": [
    "library(ggplot2)\n",
    "time = subset(logcpm, uberon_string==\"spleen\")\n",
    "#time = logcpm\n",
    "#time$time_death[time$time_death > 0.987] = 0\n",
    "time$time_death = time$time_death * 24\n",
    "ggplot(time, aes(x=time_death,y=CST3)) + geom_smooth()+theme_bw()+xlim(0,24)"
   ]
  },
  {
   "cell_type": "code",
   "execution_count": null,
   "metadata": {},
   "outputs": [],
   "source": [
    "library(tidyr)\n",
    "library(ggplot2)\n",
    "logcpm2 = subset(logcpm, uberon_string==\"spleen\")\n",
    "\n",
    "center_scale <- function(x) {\n",
    "    scale(x, scale = FALSE)\n",
    "}\n",
    "\n",
    "logcpm2$FKBP5 = center_scale(logcpm2$FKBP5)\n",
    "logcpm2$CST3 = center_scale(logcpm2$CST3)\n",
    "use = logcpm2 %>% pivot_longer(cols = c('FKBP5','CST3'))\n",
    "timex = use\n",
    "#time = logcpm\n",
    "timex$time_death = timex$time_death * 24\n",
    "ggplot(timex, aes(x=time_death,y=value, color=name)) + geom_smooth(se=F)+theme_bw()+xlim(0,24)+xlab(\"Time of death (24h clock)\")+ylab(\"Relative expression (Z-score)\")"
   ]
  },
  {
   "cell_type": "code",
   "execution_count": null,
   "metadata": {},
   "outputs": [],
   "source": [
    "library(cosinor)\n",
    "cst3 = subset(use, name==\"FKBP5\")\n",
    "cst3 = cst3 %>% rowwise() %>% mutate(time_posix=as.POSIXct(as.Date(\"2011-02-01 00:00\", tzone=\"UTC\"))+3600*5 + 3600*24*time_death)\n",
    "cst3$hour_of_sampling = format(cst3$time_posix,format = \"%H\")\n",
    "cst3 = subset(cst3, is.na(hour_of_sampling)==FALSE)\n",
    "cst3$hour_of_sampling = as.numeric(cst3$hour_of_sampling)\n",
    "cst3$hour2 = cst3$time_death*24\n",
    "cst3 = as.data.frame(cst3)\n",
    "fit <- cosinor.lm(value ~ time(hour2), data = cst3, period = 24)\n",
    "\n",
    "cst3 = subset(use, name==\"CST3\")\n",
    "cst3 = cst3 %>% rowwise() %>% mutate(time_posix=as.POSIXct(as.Date(\"2011-02-01 00:00\", tzone=\"UTC\"))+3600*5 + 3600*24*time_death)\n",
    "cst3$hour_of_sampling = format(cst3$time_posix,format = \"%H\")\n",
    "cst3 = subset(cst3, is.na(hour_of_sampling)==FALSE)\n",
    "cst3$hour_of_sampling = as.numeric(cst3$hour_of_sampling)\n",
    "cst3$hour2 = cst3$time_death*24\n",
    "cst3 = as.data.frame(cst3)\n",
    "fit2 <- cosinor.lm(value ~ time(hour2), data = cst3, period = 24)\n"
   ]
  },
  {
   "cell_type": "code",
   "execution_count": null,
   "metadata": {},
   "outputs": [],
   "source": [
    "summary(fit2)"
   ]
  },
  {
   "cell_type": "code",
   "execution_count": null,
   "metadata": {},
   "outputs": [],
   "source": [
    "object=fit\n",
    "timeax <- seq(0, object$period, length.out = 200)\n",
    "covars <- grep(\"(rrr|sss)\", attr(object$fit$terms, \"term.labels\"), invert = TRUE, value = TRUE)\n",
    "\n",
    "newdata <- data.frame(time = timeax, rrr = cos(2 * pi * timeax / object$period),\n",
    "                    sss = sin(2 * pi * timeax / object$period))\n",
    "\n",
    "newdata$Y.hat <- predict(object$fit, newdata = newdata)\n",
    "\n",
    "\n",
    "object=fit2\n",
    "timeax <- seq(0, object$period, length.out = 200)\n",
    "covars <- grep(\"(rrr|sss)\", attr(object$fit$terms, \"term.labels\"), invert = TRUE, value = TRUE)\n",
    "\n",
    "newdata2 <- data.frame(time = timeax, rrr = cos(2 * pi * timeax / object$period),\n",
    "                    sss = sin(2 * pi * timeax / object$period))\n",
    "\n",
    "newdata2$Y.hat <- predict(object$fit, newdata = newdata2)\n",
    "\n",
    "names(newdata)[4]=\"FKBP5\"\n",
    "newdata$CST3 = newdata2$Y.hat\n",
    "\n",
    "newdata = newdata %>% pivot_longer(cols = c('FKBP5','CST3'))\n",
    "\n",
    "\n",
    "ggplot(newdata, aes_string(x = \"time\", y = \"value\", color = \"name\")) + geom_line()+theme_bw()+xlim(0,24)+xlab(\"Time of death (24h clock)\")+ylab(\"Normalized expression - log(TPM)\")"
   ]
  },
  {
   "cell_type": "markdown",
   "metadata": {},
   "source": [
    "## TCGA"
   ]
  },
  {
   "cell_type": "code",
   "execution_count": null,
   "metadata": {},
   "outputs": [],
   "source": [
    "tcga_count = fread('/mnt/grid/janowitz/rdata_norepl/tcga_germline/rna/tcga_gene_expected_count.gz')\n",
    "tcga_genes = fread('/mnt/grid/janowitz/rdata_norepl/tcga_germline/rna/gencode.v23.annotation.gene.probemap')\n",
    "tcga_samples = fread('/mnt/grid/janowitz/rdata_norepl/tcga_germline/rna/TCGA_phenotype_denseDataOnlyDownload.tsv.gz')\n",
    "tcga_immune = read_excel('/mnt/grid/janowitz/rdata_norepl/tcga_germline/rna/tcga_immunity.xlsx')\n",
    "tcga_clinical = read_excel('/mnt/grid/janowitz/rdata_norepl/tcga_germline/rna/TCGA-CDR.xlsx')\n",
    "tcga_prs = read_table2('/grid/wsbs/home_norepl/skleeman/PGS/final/TCGA_UKB380_PGS_inner.sscore')\n",
    "scale2 <- function(x, na.rm = TRUE) (x - mean(x, na.rm = na.rm)) / sd(x, na.rm)\n",
    "tcga_prs$score_scale = scale2(tcga_prs$SCORE1_AVG)\n",
    "names(tcga_prs)[2]=\"subjid\"\n",
    "tcga_prs$subjid = gsub('\\\\.', '-', tcga_prs$subjid )\n",
    "pcs = fread('/mnt/grid/janowitz/rdata_norepl/tcga_germline/plink/tcga_eur_pcs.tsv')\n",
    "pcs$IID = gsub('\\\\.', '-', pcs$IID )\n",
    "names(pcs)[1]=\"subjid\"\n",
    "names(tcga_clinical)[1] = \"subjid\""
   ]
  },
  {
   "cell_type": "markdown",
   "metadata": {},
   "source": [
    "### PRS vs survival"
   ]
  },
  {
   "cell_type": "code",
   "execution_count": null,
   "metadata": {},
   "outputs": [],
   "source": [
    "prs_survival<-inner_join(tcga_prs, tcga_clinical, by='subjid')\n",
    "prs_survival<-inner_join(prs_survival, pcs, by='subjid')"
   ]
  },
  {
   "cell_type": "code",
   "execution_count": null,
   "metadata": {},
   "outputs": [],
   "source": [
    "names(prs_survival)"
   ]
  },
  {
   "cell_type": "code",
   "execution_count": null,
   "metadata": {},
   "outputs": [],
   "source": [
    "nrow(prs_survival)"
   ]
  },
  {
   "cell_type": "code",
   "execution_count": null,
   "metadata": {},
   "outputs": [],
   "source": [
    "library(survival)\n",
    "library(survminer)\n",
    "\n",
    "framex = data.frame()\n",
    "\n",
    "prs_survival$type[prs_survival$type==\"READ\"] = \"COAD\"\n",
    "\n",
    "prs_survival = subset(prs_survival, tumor_status ==\"TUMOR FREE\" | tumor_status == \"WITH TUMOR\")\n",
    "\n",
    "prs_survival = subset(prs_survival, type %in% c(\"BLCA\",\"BRCA\", \"COAD\",\"READ\",\"UCEC\",\"ESCA\",\"STAD\",\"HNSC\",\"KIRC\",\"KIRP\",\n",
    "                                               \"LIHC\",\"LUSC\",\"LUAD\",'SKCM','OV','PAAD'))\n",
    "\n",
    "for(i in 1:length(unique(prs_survival$type))) {\n",
    "    tryCatch({\n",
    "        cancer = unique(prs_survival$type)[i]\n",
    "        use = subset(prs_survival, type==cancer)\n",
    "        if(length(unique(use$gender)) ==2 ) {\n",
    "            res.cox = coxph(Surv(DSS.time, DSS) ~ score_scale + age_at_initial_pathologic_diagnosis + gender + PC1 + PC2 + PC3 + PC4 + tumor_status, data=use)\n",
    "        } else {\n",
    "            res.cox = coxph(Surv(DSS.time, DSS) ~ score_scale + age_at_initial_pathologic_diagnosis + PC1 + PC2 + PC3 + PC4 + tumor_status, data=use)\n",
    "        }\n",
    "        test = summary(res.cox)\n",
    "        p_value = as.numeric(test$coefficients[1,5])\n",
    "        add = data.frame(name=cancer, p_value = p_value, hr=test$coefficients[1,2], se=test$coefficients[1,3],lower = test$conf.int[1,3],\n",
    "                     upper = test$conf.int[1,4])\n",
    "        test = summary(res.cox)\n",
    "        framex=rbind(framex,add)\n",
    "    }, error=function(e){})\n",
    "}\n"
   ]
  },
  {
   "cell_type": "code",
   "execution_count": null,
   "metadata": {},
   "outputs": [],
   "source": [
    "framex %>% arrange(hr)"
   ]
  },
  {
   "cell_type": "code",
   "execution_count": null,
   "metadata": {},
   "outputs": [],
   "source": [
    "library(meta)\n",
    "meta = metagen(log(framex$hr), framex$se, sm = \"HR\", studlab=framex$name)\n",
    "\n",
    "pdf(file = \"/mnt/grid/janowitz/home/skleeman/cystatinc/figure_prep/figure4cy.pdf\", width = 8, height = 6)\n",
    "\n",
    "\n",
    "\n",
    "forest.meta(meta,leftlabs = c(\"Cancer code\"), leftcols = c(\"studlab\"),rightcols=c(\"effect\", \"ci\"),sortvar = TE)\n",
    "\n",
    "dev.off()"
   ]
  },
  {
   "cell_type": "code",
   "execution_count": null,
   "metadata": {},
   "outputs": [],
   "source": [
    "framex  %>% ggplot(\n",
    "  aes(x = name,y = hr, ymin = lower, ymax = upper))+\n",
    "  geom_pointrange(aes(col=name))+\n",
    "  geom_hline(aes(fill=name),yintercept =1, linetype=2)+\n",
    "  xlab('Group')+ ylab(\"Hazard Ratio (95% Confidence Interval)\")+\n",
    "  geom_errorbar(aes(ymin=lower, ymax=upper,col=name),width=0.5,cex=1)+ \n",
    "  theme(plot.title=element_text(size=16,face=\"bold\"),\n",
    "        axis.text.y=element_blank(),\n",
    "        axis.ticks.y=element_blank(),\n",
    "        axis.text.x=element_text(face=\"bold\"),\n",
    "        axis.title=element_text(size=12,face=\"bold\"),\n",
    "        strip.text.y = element_text(hjust=0,vjust = 1,angle=180,face=\"bold\"))+\n",
    "  coord_flip()+theme_bw()+xlab(\"\")+ theme(legend.position = \"none\") "
   ]
  }
 ],
 "metadata": {
  "kernelspec": {
   "display_name": "R/4.0.3",
   "language": "R",
   "name": "r_4.0.3"
  },
  "language_info": {
   "codemirror_mode": "r",
   "file_extension": ".r",
   "mimetype": "text/x-r-source",
   "name": "R",
   "pygments_lexer": "r",
   "version": "4.0.3"
  }
 },
 "nbformat": 4,
 "nbformat_minor": 4
}
