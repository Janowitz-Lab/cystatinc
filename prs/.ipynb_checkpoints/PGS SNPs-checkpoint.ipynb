{
 "cells": [
  {
   "cell_type": "markdown",
   "metadata": {},
   "source": [
    "## Generate PGS SNP list"
   ]
  },
  {
   "cell_type": "markdown",
   "metadata": {},
   "source": [
    "LDPred2 recommends approximately 1 million HapMap3 SNPs. However, in each study we looked at, around 1% of these SNPs are missing. For maximum portability of this PGS, here we intersect the available SNPs in three QC'd cohorts (UK Biobank, TCGA, GTEX) with the HapMap3 variants to generate an integrated SNP list."
   ]
  },
  {
   "cell_type": "markdown",
   "metadata": {},
   "source": [
    "## Load Hail"
   ]
  },
  {
   "cell_type": "code",
   "execution_count": 1,
   "metadata": {},
   "outputs": [
    {
     "name": "stderr",
     "output_type": "stream",
     "text": [
      "Running on Apache Spark version 2.4.5\n",
      "SparkUI available at http://bamgpu04.cm.cluster:4040\n",
      "Welcome to\n",
      "     __  __     <>__\n",
      "    / /_/ /__  __/ /\n",
      "   / __  / _ `/ / /\n",
      "  /_/ /_/\\_,_/_/_/   version 0.2.63-0bc3808faa6d\n",
      "LOGGING: writing to /mnt/grid/janowitz/home/skleeman/cystatinc/prs/hail-20210327-2019-0.2.63-0bc3808faa6d.log\n"
     ]
    }
   ],
   "source": [
    "import seaborn as sns\n",
    "import hail as hl\n",
    "import os\n",
    "from gnomad.utils.liftover import *\n",
    "from gnomad.utils.annotations import *\n",
    "from gnomad.sample_qc.pipeline import *\n",
    "from gnomad.sample_qc.ancestry import *\n",
    "\n",
    "tmp = \"/mnt/grid/janowitz/home/skleeman/tmp2\"\n",
    "os.environ[\"SPARK_LOCAL_DIRS\"]=tmp\n",
    "\n",
    "os.environ[\"PYSPARK_SUBMIT_ARGS\"] =\"--driver-memory 200g --executor-memory 2g pyspark-shell\"\n",
    "\n",
    "hl.init(default_reference='GRCh38', master='local[16]',min_block_size=128, local_tmpdir=tmp, tmp_dir=tmp)"
   ]
  },
  {
   "cell_type": "markdown",
   "metadata": {},
   "source": [
    "## Process data\n",
    "\n",
    "### Load each dataset\n",
    "\n",
    "Liftover GTEX and TCGA-imputed to GRCh37."
   ]
  },
  {
   "cell_type": "code",
   "execution_count": null,
   "metadata": {},
   "outputs": [],
   "source": [
    "#UKB summary statistics (INFO > 0.8, MAF > 0.01)\n",
    "ukb = hl.import_table('/mnt/grid/ukbiobank/data/Application58510/skleeman/gwas_cystatinc/PRS/EUR/summ_SEM_cystatin_vaf_effectflip.tsv', impute=True)\n",
    "ukb.write('/mnt/grid/ukbiobank/data/Application58510/skleeman/gwas_cystatinc/PRS/snplist/ukb.ht')\n",
    "\n",
    "#TCGA imputed data (RSQ > 0.6, MAF > 0.001)\n",
    "\n",
    "tcga = hl.read_matrix_table('/mnt/grid/janowitz/rdata_norepl/tcga_germline/hail/tcga_imputed_info0.6.mt')\n",
    "tcga = hl.variant_qc(tcga) #Default Hail variant QC pipeline\n",
    "tcga = tcga.filter_rows(tcga.variant_qc.AF[1] > 0.001) #MAF > 0.1%\n",
    "tcga_variants = tcga.rows()\n",
    "tcga_variants = default_lift_data(tcga_variants)\n",
    "tcga_variants.write('/mnt/grid/ukbiobank/data/Application58510/skleeman/gwas_cystatinc/PRS/snplist/tcga.ht')\n",
    "\n",
    "#GTEX WGS data (GTEX QC pipeline, V8, MAF > 0.001)\n",
    "\n",
    "gtex = hl.read_matrix_table('/mnt/grid/janowitz/rdata_norepl/gtex/hail/gtex_raw.mt')\n",
    "gtex = hl.variant_qc(gtex) #Default Hail variant QC pipeline\n",
    "gtex = gtex.filter_rows(gtex.variant_qc.AF[1] > 0.001) #MAF > 0.1%\n",
    "gtex_variants = gtex.rows()\n",
    "gtex_variants = default_lift_data(gtex_variants)\n",
    "gtex_variants.write('/mnt/grid/ukbiobank/data/Application58510/skleeman/gwas_cystatinc/PRS/snplist/gtex.ht')"
   ]
  },
  {
   "cell_type": "markdown",
   "metadata": {},
   "source": [
    "### Filter to HapMap3 SNPs"
   ]
  },
  {
   "cell_type": "code",
   "execution_count": 4,
   "metadata": {},
   "outputs": [
    {
     "name": "stderr",
     "output_type": "stream",
     "text": [
      "2021-03-27 20:32:57 Hail: INFO: Reading table to impute column types\n",
      "2021-03-27 20:32:59 Hail: INFO: Finished type imputation\n",
      "  Loading field 'SNPID' as type str (imputed)\n",
      "  Loading field 'a1' as type str (imputed)\n",
      "  Loading field 'beta_auto' as type float64 (imputed)\n",
      "  Loading field 'variant' as type str (imputed)\n",
      "2021-03-27 20:33:05 Hail: INFO: Coerced sorted dataset\n",
      "2021-03-27 20:33:06 Hail: INFO: Ordering unsorted dataset with network shuffle\n"
     ]
    },
    {
     "data": {
      "text/plain": [
       "1043492"
      ]
     },
     "execution_count": 4,
     "metadata": {},
     "output_type": "execute_result"
    }
   ],
   "source": [
    "hm3 = hl.import_table('/mnt/grid/janowitz/home/skleeman/cystatinc/prs/UKB380_PGS_LDPRED2.tsv', impute=True)\n",
    "hm3 = hm3.key_by('SNPID')\n",
    "\n",
    "ukb = hl.read_table('/mnt/grid/ukbiobank/data/Application58510/skleeman/gwas_cystatinc/PRS/snplist/ukb.ht')\n",
    "ukb = ukb.filter(hl.is_defined(hm3[ukb.SNP]))\n",
    "ukb = ukb.annotate(alleles = [ukb.A2, ukb.A1],\n",
    "                  locus =hl.locus(hl.str(ukb.CHR), ukb.BP,reference_genome='GRCh37'))\n",
    "ukb = ukb.key_by('locus','alleles')\n",
    "ukb.count()"
   ]
  },
  {
   "cell_type": "markdown",
   "metadata": {},
   "source": [
    "### Filter to TCGA SNPs"
   ]
  },
  {
   "cell_type": "code",
   "execution_count": 6,
   "metadata": {},
   "outputs": [
    {
     "name": "stderr",
     "output_type": "stream",
     "text": [
      "2021-03-27 20:36:25 Hail: INFO: Coerced sorted dataset\n",
      "2021-03-27 20:36:26 Hail: INFO: Ordering unsorted dataset with network shuffle\n",
      "2021-03-27 20:36:36 Hail: INFO: Ordering unsorted dataset with network shuffle\n"
     ]
    },
    {
     "data": {
      "text/plain": [
       "1037629"
      ]
     },
     "execution_count": 6,
     "metadata": {},
     "output_type": "execute_result"
    }
   ],
   "source": [
    "tcga_variant = hl.read_table('/mnt/grid/ukbiobank/data/Application58510/skleeman/gwas_cystatinc/PRS/snplist/tcga.ht')\n",
    "ukb = ukb.semi_join(tcga_variant)\n",
    "\n",
    "ukb.count()"
   ]
  },
  {
   "cell_type": "markdown",
   "metadata": {},
   "source": [
    "### Filter to GTEX SNPs"
   ]
  },
  {
   "cell_type": "code",
   "execution_count": 8,
   "metadata": {},
   "outputs": [
    {
     "name": "stderr",
     "output_type": "stream",
     "text": [
      "2021-03-27 20:43:23 Hail: INFO: Coerced sorted dataset\n",
      "2021-03-27 20:43:25 Hail: INFO: Ordering unsorted dataset with network shuffle\n",
      "2021-03-27 20:43:36 Hail: INFO: Ordering unsorted dataset with network shuffle\n"
     ]
    },
    {
     "data": {
      "text/plain": [
       "1031527"
      ]
     },
     "execution_count": 8,
     "metadata": {},
     "output_type": "execute_result"
    }
   ],
   "source": [
    "gtex_variant = hl.read_table('/mnt/grid/ukbiobank/data/Application58510/skleeman/gwas_cystatinc/PRS/snplist/gtex.ht')\n",
    "ukb = ukb.semi_join(gtex_variant)\n",
    "\n",
    "ukb.count()"
   ]
  },
  {
   "cell_type": "markdown",
   "metadata": {},
   "source": [
    "### Save inner SNPs"
   ]
  },
  {
   "cell_type": "code",
   "execution_count": 9,
   "metadata": {},
   "outputs": [
    {
     "name": "stderr",
     "output_type": "stream",
     "text": [
      "2021-03-27 20:46:28 Hail: INFO: Coerced sorted dataset\n",
      "2021-03-27 20:46:30 Hail: INFO: Ordering unsorted dataset with network shuffle\n",
      "2021-03-27 20:46:36 Hail: INFO: Ordering unsorted dataset with network shuffle\n",
      "2021-03-27 20:47:20 Hail: INFO: merging 6 files totalling 107.2M...\n",
      "2021-03-27 20:47:21 Hail: INFO: while writing:\n",
      "    /mnt/grid/ukbiobank/data/Application58510/skleeman/gwas_cystatinc/PRS/EUR/summ_SEM_cystatin_vaf_effectflip_innersnp.tsv\n",
      "  merge time: 1.165s\n",
      "2021-03-27 20:47:28 Hail: INFO: Coerced sorted dataset\n",
      "2021-03-27 20:47:30 Hail: INFO: Ordering unsorted dataset with network shuffle\n",
      "2021-03-27 20:47:40 Hail: INFO: Ordering unsorted dataset with network shuffle\n"
     ]
    },
    {
     "name": "stdout",
     "output_type": "stream",
     "text": [
      "1031527\n"
     ]
    },
    {
     "name": "stderr",
     "output_type": "stream",
     "text": [
      "2021-03-27 20:48:31 Hail: INFO: Coerced sorted dataset\n",
      "2021-03-27 20:48:33 Hail: INFO: Ordering unsorted dataset with network shuffle\n",
      "2021-03-27 20:48:41 Hail: INFO: Ordering unsorted dataset with network shuffle\n",
      "2021-03-27 20:49:25 Hail: INFO: wrote table with 1031527 rows in 6 partitions to /mnt/grid/ukbiobank/data/Application58510/skleeman/gwas_cystatinc/PRS/snplist/innersnps.ht\n",
      "    Total size: 20.11 MiB\n",
      "    * Rows: 20.11 MiB\n",
      "    * Globals: 11.00 B\n",
      "    * Smallest partition: 143242 rows (2.80 MiB)\n",
      "    * Largest partition:  208544 rows (4.04 MiB)\n"
     ]
    }
   ],
   "source": [
    "ukb.export('/mnt/grid/ukbiobank/data/Application58510/skleeman/gwas_cystatinc/PRS/EUR/summ_SEM_cystatin_vaf_effectflip_innersnp.tsv')\n",
    "\n",
    "variants = ukb.select(rsid=ukb.SNP)\n",
    "print(variants.count())\n",
    "\n",
    "variants.write('/mnt/grid/ukbiobank/data/Application58510/skleeman/gwas_cystatinc/PRS/snplist/innersnps.ht',overwrite=True)"
   ]
  }
 ],
 "metadata": {
  "kernelspec": {
   "display_name": "Python/3.7.4 (src)",
   "language": "python",
   "name": "python_3.7.4-gcccore-8.3.0"
  },
  "language_info": {
   "codemirror_mode": {
    "name": "ipython",
    "version": 3
   },
   "file_extension": ".py",
   "mimetype": "text/x-python",
   "name": "python",
   "nbconvert_exporter": "python",
   "pygments_lexer": "ipython3",
   "version": "3.7.4"
  }
 },
 "nbformat": 4,
 "nbformat_minor": 4
}
